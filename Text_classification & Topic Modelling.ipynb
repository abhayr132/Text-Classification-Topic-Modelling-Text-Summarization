{
 "cells": [
  {
   "cell_type": "markdown",
   "id": "6d990047-e4da-4e06-9263-e19a0b34cf0d",
   "metadata": {},
   "source": [
    "## Problem Statement\n",
    "\n",
    "\n",
    "FashionKart allows consumers to buy latest products from e-commerce platforms. Customers can leave reviews of products and experience to help other users make their purchase choices.\n",
    " \n",
    "Given the dataset of product reviews and recommendation status, build a text classification model that can correctly identify the users who will recommend the product in the future. Also provide key topics/themes emerging from the customer reviews along with visualisation charts."
   ]
  },
  {
   "cell_type": "markdown",
   "id": "b0f30bd8-27c0-43eb-abdb-25102daaceba",
   "metadata": {},
   "source": [
    "**Review:** Customer review for the product\n",
    "\n",
    "**Recommendation:** Customer's recommendation for the product "
   ]
  },
  {
   "cell_type": "markdown",
   "id": "f0aea38f-00b9-4ba6-9d28-2bbbba9d7576",
   "metadata": {},
   "source": [
    "### Step 1 : Load required libraries "
   ]
  },
  {
   "cell_type": "code",
   "execution_count": 2,
   "id": "5104f4e7-60ce-41cf-8239-2b66a5681e9f",
   "metadata": {},
   "outputs": [
    {
     "name": "stderr",
     "output_type": "stream",
     "text": [
      "[nltk_data] Downloading package stopwords to\n",
      "[nltk_data]     /Users/abhinav/nltk_data...\n",
      "[nltk_data]   Package stopwords is already up-to-date!\n",
      "[nltk_data] Downloading package punkt to /Users/abhinav/nltk_data...\n",
      "[nltk_data]   Package punkt is already up-to-date!\n"
     ]
    }
   ],
   "source": [
    "#import the libraries\n",
    "import numpy as np\n",
    "import pandas as pd\n",
    "import os\n",
    "import re\n",
    "import nltk\n",
    "nltk.download('stopwords')\n",
    "nltk.download('punkt')\n",
    "from nltk.corpus import stopwords\n",
    "STOPWORDS = set(stopwords.words('english'))\n",
    "import matplotlib.pyplot as plt\n",
    "from sklearn.decomposition import TruncatedSVD\n",
    "import umap\n",
    "from sklearn.feature_extraction.text import CountVectorizer,TfidfVectorizer\n",
    "from sklearn.model_selection import train_test_split\n",
    "from sklearn.ensemble import RandomForestClassifier\n",
    "from sklearn.linear_model import LogisticRegression\n",
    "from sklearn.svm import LinearSVC\n",
    "from sklearn.naive_bayes import MultinomialNB\n",
    "from sklearn.metrics import classification_report, confusion_matrix, accuracy_score\n",
    "from sklearn.metrics import roc_auc_score\n",
    "from nltk import sent_tokenize, word_tokenize\n",
    "import gensim\n",
    "from gensim import corpora\n",
    "import pyLDAvis\n",
    "import pyLDAvis.gensim_models as gensimvis\n",
    "import matplotlib.pyplot as plt\n",
    "import seaborn as sns\n",
    "%matplotlib inline\n",
    "     \n",
    "import warnings\n",
    "warnings.filterwarnings('ignore')"
   ]
  },
  {
   "cell_type": "markdown",
   "id": "c991eaf0-1b27-4042-8b8f-da7888dea4b8",
   "metadata": {},
   "source": [
    "### Step 2 : Load the input data "
   ]
  },
  {
   "cell_type": "code",
   "execution_count": 3,
   "id": "411901ed-0014-4ecf-b7ef-68650c89f06c",
   "metadata": {},
   "outputs": [],
   "source": [
    "#read the input data\n",
    "input_data = pd.read_csv('dataset.csv')"
   ]
  },
  {
   "cell_type": "code",
   "execution_count": 4,
   "id": "55a67ee3-9ff8-4bbb-865b-55e6168cfbe4",
   "metadata": {},
   "outputs": [
    {
     "data": {
      "text/html": [
       "<div>\n",
       "<style scoped>\n",
       "    .dataframe tbody tr th:only-of-type {\n",
       "        vertical-align: middle;\n",
       "    }\n",
       "\n",
       "    .dataframe tbody tr th {\n",
       "        vertical-align: top;\n",
       "    }\n",
       "\n",
       "    .dataframe thead th {\n",
       "        text-align: right;\n",
       "    }\n",
       "</style>\n",
       "<table border=\"1\" class=\"dataframe\">\n",
       "  <thead>\n",
       "    <tr style=\"text-align: right;\">\n",
       "      <th></th>\n",
       "      <th>Review</th>\n",
       "      <th>Recommend</th>\n",
       "    </tr>\n",
       "  </thead>\n",
       "  <tbody>\n",
       "    <tr>\n",
       "      <th>0</th>\n",
       "      <td>Absolutely wonderful - silky and sexy and comf...</td>\n",
       "      <td>1</td>\n",
       "    </tr>\n",
       "    <tr>\n",
       "      <th>1</th>\n",
       "      <td>Love this dress!  it's sooo pretty.  i happene...</td>\n",
       "      <td>1</td>\n",
       "    </tr>\n",
       "    <tr>\n",
       "      <th>2</th>\n",
       "      <td>I had such high hopes for this dress and reall...</td>\n",
       "      <td>0</td>\n",
       "    </tr>\n",
       "    <tr>\n",
       "      <th>3</th>\n",
       "      <td>I love, love, love this jumpsuit. it's fun, fl...</td>\n",
       "      <td>1</td>\n",
       "    </tr>\n",
       "    <tr>\n",
       "      <th>4</th>\n",
       "      <td>This shirt is very flattering to all due to th...</td>\n",
       "      <td>1</td>\n",
       "    </tr>\n",
       "  </tbody>\n",
       "</table>\n",
       "</div>"
      ],
      "text/plain": [
       "                                              Review  Recommend\n",
       "0  Absolutely wonderful - silky and sexy and comf...          1\n",
       "1  Love this dress!  it's sooo pretty.  i happene...          1\n",
       "2  I had such high hopes for this dress and reall...          0\n",
       "3  I love, love, love this jumpsuit. it's fun, fl...          1\n",
       "4  This shirt is very flattering to all due to th...          1"
      ]
     },
     "execution_count": 4,
     "metadata": {},
     "output_type": "execute_result"
    }
   ],
   "source": [
    "#scan the dataframe\n",
    "input_data.head()"
   ]
  },
  {
   "cell_type": "code",
   "execution_count": 5,
   "id": "e8cf81b0-9cff-4886-a9ee-7b8413a069a9",
   "metadata": {},
   "outputs": [
    {
     "name": "stdout",
     "output_type": "stream",
     "text": [
      "<class 'pandas.core.frame.DataFrame'>\n",
      "RangeIndex: 23486 entries, 0 to 23485\n",
      "Data columns (total 2 columns):\n",
      " #   Column     Non-Null Count  Dtype \n",
      "---  ------     --------------  ----- \n",
      " 0   Review     22641 non-null  object\n",
      " 1   Recommend  23486 non-null  int64 \n",
      "dtypes: int64(1), object(1)\n",
      "memory usage: 367.1+ KB\n"
     ]
    }
   ],
   "source": [
    "input_data.info()"
   ]
  },
  {
   "cell_type": "code",
   "execution_count": 6,
   "id": "e8f47145-47a8-4db2-ab43-675a5c2d9831",
   "metadata": {},
   "outputs": [],
   "source": [
    "#convert the object datatype type to string\n",
    "input_data['Review']=input_data['Review'].astype('str') "
   ]
  },
  {
   "cell_type": "code",
   "execution_count": 7,
   "id": "a2732850-44ab-47cd-a009-2eb5f35e424d",
   "metadata": {},
   "outputs": [
    {
     "data": {
      "text/plain": [
       "(23486, 2)"
      ]
     },
     "execution_count": 7,
     "metadata": {},
     "output_type": "execute_result"
    }
   ],
   "source": [
    "#check the size of the dataframe\n",
    "input_data.shape"
   ]
  },
  {
   "cell_type": "code",
   "execution_count": 8,
   "id": "0968da97-3c1d-48e2-b619-3e04966e029b",
   "metadata": {},
   "outputs": [
    {
     "data": {
      "text/plain": [
       "Recommend\n",
       "1    19314\n",
       "0     4172\n",
       "Name: count, dtype: int64"
      ]
     },
     "execution_count": 8,
     "metadata": {},
     "output_type": "execute_result"
    }
   ],
   "source": [
    "#check the target class distribution in the dataset\n",
    "input_data['Recommend'].value_counts()"
   ]
  },
  {
   "cell_type": "markdown",
   "id": "af301a43-c705-43eb-9aad-5c8684d295de",
   "metadata": {},
   "source": [
    "As we can see there are around 23K+ reviews in the dataset. Each review has a corresponding recommendation value and there are more recommended products compared to non-recommended"
   ]
  },
  {
   "cell_type": "markdown",
   "id": "a73fd7ca-e6e5-4590-b856-660080325130",
   "metadata": {},
   "source": [
    "### Step 3 : Explore the data "
   ]
  },
  {
   "cell_type": "code",
   "execution_count": 9,
   "id": "8742ce44-9ebe-4a6d-9542-22bf234dc7ad",
   "metadata": {},
   "outputs": [
    {
     "data": {
      "image/png": "[encoded data removed]",
      "text/plain": [
       "<Figure size 1000x500 with 1 Axes>"
      ]
     },
     "metadata": {},
     "output_type": "display_data"
    }
   ],
   "source": [
    "#check for the target class counts \n",
    "label_dist = input_data['Recommend'].value_counts().to_dict()\n",
    "fig = plt.figure(figsize = (10, 5))\n",
    "ax = plt.bar(label_dist.keys(), label_dist.values(), width=0.25)\n",
    "plt.xticks([0,1])\n",
    "plt.xlabel(\"Recommendation\")\n",
    "plt.ylabel(\"Review Count\")\n",
    "plt.show()"
   ]
  },
  {
   "cell_type": "code",
   "execution_count": 10,
   "id": "668390a1-fa05-4c33-901d-683e83ee5f52",
   "metadata": {},
   "outputs": [
    {
     "name": "stdout",
     "output_type": "stream",
     "text": [
      "Review       0\n",
      "Recommend    0\n",
      "dtype: int64\n"
     ]
    }
   ],
   "source": [
    "#check for any empty rows \n",
    "print(input_data.isnull().sum())"
   ]
  },
  {
   "cell_type": "code",
   "execution_count": 11,
   "id": "872916fb-f212-403d-9653-79e274a888b2",
   "metadata": {},
   "outputs": [
    {
     "data": {
      "text/plain": [
       "23486"
      ]
     },
     "execution_count": 11,
     "metadata": {},
     "output_type": "execute_result"
    }
   ],
   "source": [
    "len(input_data)"
   ]
  },
  {
   "cell_type": "code",
   "execution_count": 12,
   "id": "2553b34a-d66c-4469-8c1e-db28a4e42407",
   "metadata": {},
   "outputs": [
    {
     "data": {
      "text/plain": [
       "851"
      ]
     },
     "execution_count": 12,
     "metadata": {},
     "output_type": "execute_result"
    }
   ],
   "source": [
    "#check for any duplicate reviews \n",
    "len(input_data['Review'])-len(input_data['Review'].drop_duplicates())"
   ]
  },
  {
   "cell_type": "markdown",
   "id": "77df03d3-1493-46d3-944a-d19f946231b5",
   "metadata": {},
   "source": [
    "As we can observe there are 851 reviews which seem to be duplicate values. We will drop these from the dataframe."
   ]
  },
  {
   "cell_type": "code",
   "execution_count": 13,
   "id": "1d7028ad-2e47-4b6b-9921-7cdc28077982",
   "metadata": {},
   "outputs": [],
   "source": [
    "#drop the repeated reviews \n",
    "input_data=input_data.drop_duplicates(subset='Review', keep=\"last\")"
   ]
  },
  {
   "cell_type": "code",
   "execution_count": 14,
   "id": "61241ed4-0c4a-4da6-8177-21364843dfe7",
   "metadata": {},
   "outputs": [
    {
     "data": {
      "text/plain": [
       "22635"
      ]
     },
     "execution_count": 14,
     "metadata": {},
     "output_type": "execute_result"
    }
   ],
   "source": [
    "len(input_data)"
   ]
  },
  {
   "cell_type": "markdown",
   "id": "d83b47f4-07a4-4d69-b173-ed115f64acee",
   "metadata": {},
   "source": [
    "We can now check the size of each review to establish if there is any relation between the recommendation and length of the reviews "
   ]
  },
  {
   "cell_type": "code",
   "execution_count": 15,
   "id": "5f918319-a05d-4543-97b4-fab3e8ed53dd",
   "metadata": {},
   "outputs": [],
   "source": [
    "#check for the length of reviews \n",
    "input_data['length']=input_data['Review'].apply(lambda x: len(x.split(' ')))"
   ]
  },
  {
   "cell_type": "code",
   "execution_count": 16,
   "id": "1de55440-6af1-40c9-a452-a2754dc27bfb",
   "metadata": {},
   "outputs": [
    {
     "data": {
      "text/html": [
       "<div>\n",
       "<style scoped>\n",
       "    .dataframe tbody tr th:only-of-type {\n",
       "        vertical-align: middle;\n",
       "    }\n",
       "\n",
       "    .dataframe tbody tr th {\n",
       "        vertical-align: top;\n",
       "    }\n",
       "\n",
       "    .dataframe thead th {\n",
       "        text-align: right;\n",
       "    }\n",
       "</style>\n",
       "<table border=\"1\" class=\"dataframe\">\n",
       "  <thead>\n",
       "    <tr style=\"text-align: right;\">\n",
       "      <th></th>\n",
       "      <th>Review</th>\n",
       "      <th>Recommend</th>\n",
       "      <th>length</th>\n",
       "    </tr>\n",
       "  </thead>\n",
       "  <tbody>\n",
       "    <tr>\n",
       "      <th>13087</th>\n",
       "      <td>I bought these in light grey and navy. they ar...</td>\n",
       "      <td>1</td>\n",
       "      <td>81</td>\n",
       "    </tr>\n",
       "    <tr>\n",
       "      <th>10232</th>\n",
       "      <td>I love the long tunic with high slits, it's su...</td>\n",
       "      <td>1</td>\n",
       "      <td>92</td>\n",
       "    </tr>\n",
       "    <tr>\n",
       "      <th>1966</th>\n",
       "      <td>This skirt is beautiful...the color is definit...</td>\n",
       "      <td>1</td>\n",
       "      <td>84</td>\n",
       "    </tr>\n",
       "    <tr>\n",
       "      <th>22914</th>\n",
       "      <td>Wore this &amp; got many compliments. true to size...</td>\n",
       "      <td>1</td>\n",
       "      <td>10</td>\n",
       "    </tr>\n",
       "    <tr>\n",
       "      <th>2668</th>\n",
       "      <td>I tried these shorts on in 5 colors and found ...</td>\n",
       "      <td>1</td>\n",
       "      <td>100</td>\n",
       "    </tr>\n",
       "    <tr>\n",
       "      <th>10855</th>\n",
       "      <td>This top was fun. casual with flair. it is a l...</td>\n",
       "      <td>1</td>\n",
       "      <td>58</td>\n",
       "    </tr>\n",
       "    <tr>\n",
       "      <th>1068</th>\n",
       "      <td>I loved this but hesitated to order since i'm ...</td>\n",
       "      <td>1</td>\n",
       "      <td>67</td>\n",
       "    </tr>\n",
       "    <tr>\n",
       "      <th>17518</th>\n",
       "      <td>Admittedly, i ignored this dress on a few trip...</td>\n",
       "      <td>1</td>\n",
       "      <td>94</td>\n",
       "    </tr>\n",
       "    <tr>\n",
       "      <th>2223</th>\n",
       "      <td>Love this t-shirt! i live in miami and have a ...</td>\n",
       "      <td>1</td>\n",
       "      <td>40</td>\n",
       "    </tr>\n",
       "    <tr>\n",
       "      <th>14682</th>\n",
       "      <td>I absolutely love this top! it is soft, comfor...</td>\n",
       "      <td>1</td>\n",
       "      <td>22</td>\n",
       "    </tr>\n",
       "  </tbody>\n",
       "</table>\n",
       "</div>"
      ],
      "text/plain": [
       "                                                  Review  Recommend  length\n",
       "13087  I bought these in light grey and navy. they ar...          1      81\n",
       "10232  I love the long tunic with high slits, it's su...          1      92\n",
       "1966   This skirt is beautiful...the color is definit...          1      84\n",
       "22914  Wore this & got many compliments. true to size...          1      10\n",
       "2668   I tried these shorts on in 5 colors and found ...          1     100\n",
       "10855  This top was fun. casual with flair. it is a l...          1      58\n",
       "1068   I loved this but hesitated to order since i'm ...          1      67\n",
       "17518  Admittedly, i ignored this dress on a few trip...          1      94\n",
       "2223   Love this t-shirt! i live in miami and have a ...          1      40\n",
       "14682  I absolutely love this top! it is soft, comfor...          1      22"
      ]
     },
     "execution_count": 16,
     "metadata": {},
     "output_type": "execute_result"
    }
   ],
   "source": [
    "#validate the newly added column in the dataframe \n",
    "input_data.sample(10)"
   ]
  },
  {
   "cell_type": "code",
   "execution_count": 17,
   "id": "0f9041f6-9493-4fa0-91ab-26804b4b9117",
   "metadata": {},
   "outputs": [
    {
     "name": "stdout",
     "output_type": "stream",
     "text": [
      "60\n",
      "62\n"
     ]
    }
   ],
   "source": [
    "#avg. length for recommended and non recommended review \n",
    "print(round(input_data[input_data['Recommend']== 1 ]['length'].mean()))\n",
    "print(round(input_data[input_data['Recommend']== 0]['length'].mean()))"
   ]
  },
  {
   "cell_type": "markdown",
   "id": "64f11e6d-e2e0-4214-8e1c-4feba2ab8aa4",
   "metadata": {},
   "source": [
    "Seems like there isn't much of a difference between size of the customer review in the dataset "
   ]
  },
  {
   "cell_type": "markdown",
   "id": "e7a1303f-9199-43be-969d-c2ceed8c34e2",
   "metadata": {},
   "source": [
    "### Step 4 : Data Preperation"
   ]
  },
  {
   "cell_type": "markdown",
   "id": "f987a5c4-85d6-49b3-b5d8-00e76b81606c",
   "metadata": {},
   "source": [
    "Since the reviews are raw texts and contains multiple symbols, punctuations , hastags which might not be very useful for the modeling . \n",
    "We will use a helper function to clean the text and prepare it for modeling purpose."
   ]
  },
  {
   "cell_type": "code",
   "execution_count": 18,
   "id": "db99e5ad-3397-4141-b010-eae71b7eaf19",
   "metadata": {},
   "outputs": [],
   "source": [
    "# helper function to remove stopwords\n",
    "input_data[\"Review_new\"]=input_data[\"Review\"].apply(lambda x: ' '.join([word for word in x.split() if word not in (STOPWORDS)]))"
   ]
  },
  {
   "cell_type": "code",
   "execution_count": 19,
   "id": "c6b5ae6d-745e-4352-b639-5c3d2a5ff29d",
   "metadata": {},
   "outputs": [],
   "source": [
    "#helper function for review cleaning \n",
    "def text_clean(review):\n",
    "    #lowercase the review\n",
    "    review=review.lower()\n",
    "    #remove punctuation \n",
    "    review = re.sub('[()!?]', ' ', review)\n",
    "    review = re.sub('\\[.*?\\]',' ', review)\n",
    "    #remove non alphanumeric occurences\n",
    "    review = re.sub(\"[^a-z0-9]\",\" \", review)\n",
    "    #remove the @mention\n",
    "    review = re.sub(\"@[A-Za-z0-9_]+\",\"\", review)\n",
    "    #remove the hastags\n",
    "    review = re.sub(\"#[A-Za-z0-9_]+\",\"\", review)\n",
    "    #remove any links \n",
    "    review = re.sub(r\"http\\S+\", \"\", review)\n",
    "    review = re.sub(r\"www.\\S+\", \"\", review)\n",
    "    return review"
   ]
  },
  {
   "cell_type": "code",
   "execution_count": 20,
   "id": "802b30e6-7eb1-472c-9bb5-b5704a5a4245",
   "metadata": {},
   "outputs": [],
   "source": [
    "#apply the function on the review column \n",
    "input_data['clean_review'] = input_data['Review_new'].apply(text_clean)"
   ]
  },
  {
   "cell_type": "code",
   "execution_count": 21,
   "id": "78ca4bf5-8777-4bd2-a8d0-c64f95bfc9b6",
   "metadata": {},
   "outputs": [
    {
     "data": {
      "text/html": [
       "<div>\n",
       "<style scoped>\n",
       "    .dataframe tbody tr th:only-of-type {\n",
       "        vertical-align: middle;\n",
       "    }\n",
       "\n",
       "    .dataframe tbody tr th {\n",
       "        vertical-align: top;\n",
       "    }\n",
       "\n",
       "    .dataframe thead th {\n",
       "        text-align: right;\n",
       "    }\n",
       "</style>\n",
       "<table border=\"1\" class=\"dataframe\">\n",
       "  <thead>\n",
       "    <tr style=\"text-align: right;\">\n",
       "      <th></th>\n",
       "      <th>Review</th>\n",
       "      <th>clean_review</th>\n",
       "    </tr>\n",
       "  </thead>\n",
       "  <tbody>\n",
       "    <tr>\n",
       "      <th>12251</th>\n",
       "      <td>I like the make of this dress, the fabric is t...</td>\n",
       "      <td>i like make dress  fabric thick light time  cu...</td>\n",
       "    </tr>\n",
       "    <tr>\n",
       "      <th>19224</th>\n",
       "      <td>Very pretty dress! wearing it for a family bea...</td>\n",
       "      <td>very pretty dress  wearing family beach portra...</td>\n",
       "    </tr>\n",
       "    <tr>\n",
       "      <th>5791</th>\n",
       "      <td>I really loved the idea of this dress and thou...</td>\n",
       "      <td>i really loved idea dress thought may perfect ...</td>\n",
       "    </tr>\n",
       "    <tr>\n",
       "      <th>18920</th>\n",
       "      <td>This product is the best if not the most excel...</td>\n",
       "      <td>this product best excellent garment purchased ...</td>\n",
       "    </tr>\n",
       "    <tr>\n",
       "      <th>14543</th>\n",
       "      <td>I loved this top so much that i ended up purch...</td>\n",
       "      <td>i loved top much ended purchasing another colo...</td>\n",
       "    </tr>\n",
       "    <tr>\n",
       "      <th>20524</th>\n",
       "      <td>I didn't know what to put for \"runs small, tru...</td>\n",
       "      <td>i know put  runs small  true size  runs large ...</td>\n",
       "    </tr>\n",
       "    <tr>\n",
       "      <th>15204</th>\n",
       "      <td>I ordered the green and lilac. the pink color ...</td>\n",
       "      <td>i ordered green lilac  pink color offered plac...</td>\n",
       "    </tr>\n",
       "    <tr>\n",
       "      <th>15137</th>\n",
       "      <td>As is true of a bunch of the fall clothing pho...</td>\n",
       "      <td>as true bunch fall clothing photos  colors tot...</td>\n",
       "    </tr>\n",
       "    <tr>\n",
       "      <th>4548</th>\n",
       "      <td>The quality of this shirt is great and the col...</td>\n",
       "      <td>the quality shirt great colors pretty  made lo...</td>\n",
       "    </tr>\n",
       "    <tr>\n",
       "      <th>5133</th>\n",
       "      <td>What a dress! the print, the feel of the fabri...</td>\n",
       "      <td>what dress  print  feel fabric  overall fit dr...</td>\n",
       "    </tr>\n",
       "  </tbody>\n",
       "</table>\n",
       "</div>"
      ],
      "text/plain": [
       "                                                  Review  \\\n",
       "12251  I like the make of this dress, the fabric is t...   \n",
       "19224  Very pretty dress! wearing it for a family bea...   \n",
       "5791   I really loved the idea of this dress and thou...   \n",
       "18920  This product is the best if not the most excel...   \n",
       "14543  I loved this top so much that i ended up purch...   \n",
       "20524  I didn't know what to put for \"runs small, tru...   \n",
       "15204  I ordered the green and lilac. the pink color ...   \n",
       "15137  As is true of a bunch of the fall clothing pho...   \n",
       "4548   The quality of this shirt is great and the col...   \n",
       "5133   What a dress! the print, the feel of the fabri...   \n",
       "\n",
       "                                            clean_review  \n",
       "12251  i like make dress  fabric thick light time  cu...  \n",
       "19224  very pretty dress  wearing family beach portra...  \n",
       "5791   i really loved idea dress thought may perfect ...  \n",
       "18920  this product best excellent garment purchased ...  \n",
       "14543  i loved top much ended purchasing another colo...  \n",
       "20524  i know put  runs small  true size  runs large ...  \n",
       "15204  i ordered green lilac  pink color offered plac...  \n",
       "15137  as true bunch fall clothing photos  colors tot...  \n",
       "4548   the quality shirt great colors pretty  made lo...  \n",
       "5133   what dress  print  feel fabric  overall fit dr...  "
      ]
     },
     "execution_count": 21,
     "metadata": {},
     "output_type": "execute_result"
    }
   ],
   "source": [
    "#validate if the reviews are clean\n",
    "input_data[['Review','clean_review']].sample(10)"
   ]
  },
  {
   "cell_type": "markdown",
   "id": "60d5b85a-b06e-4325-bcc5-a9920c45ad9a",
   "metadata": {},
   "source": [
    "We can now observe that each review looks much cleaner and neat post the data cleansing prcoess "
   ]
  },
  {
   "cell_type": "code",
   "execution_count": 22,
   "id": "b5ee0362-d5e9-4dde-aa7d-309b3b7985b3",
   "metadata": {},
   "outputs": [],
   "source": [
    "# alculate updated length after removing the stopwords and cleaning review\n",
    "input_data['new_length']=input_data['clean_review'].apply(lambda x: len(x.split(\" \")))"
   ]
  },
  {
   "cell_type": "code",
   "execution_count": 23,
   "id": "e6822468-f832-48b1-9c85-f41a1429efa5",
   "metadata": {},
   "outputs": [
    {
     "name": "stdout",
     "output_type": "stream",
     "text": [
      "40\n",
      "40\n"
     ]
    }
   ],
   "source": [
    "#avg. length of the review for recommended and non-recommended labels \n",
    "print(round(input_data[input_data['Recommend']== 1]['new_length'].mean()))\n",
    "print(round(input_data[input_data['Recommend']== 0]['new_length'].mean()))"
   ]
  },
  {
   "cell_type": "markdown",
   "id": "f0a313e5-d117-48b4-b79d-4f39d0a1ea62",
   "metadata": {},
   "source": [
    "Post the data cleaning, the avg. length of the review becomes the same "
   ]
  },
  {
   "cell_type": "markdown",
   "id": "202c2520-baa8-4a87-8338-be5c8d9b0310",
   "metadata": {},
   "source": [
    "### Step 5 : Data split "
   ]
  },
  {
   "cell_type": "markdown",
   "id": "9a782258-7b35-4730-a329-ce0d1d2d7b00",
   "metadata": {},
   "source": [
    "Now we split the 23K+ data into training and test dataset. One thing to note is to split the data based on target class to maintain the class balance"
   ]
  },
  {
   "cell_type": "code",
   "execution_count": 24,
   "id": "c8e924f8-1f1e-41bc-8a9f-87147eb8e8a9",
   "metadata": {},
   "outputs": [],
   "source": [
    "#Sentiment Classifier\n",
    "#split the data into training and test set with balanced split based on target class\n",
    "X_train, X_test, y_train, y_test = train_test_split(input_data[\"clean_review\"],\n",
    "                                                    input_data[\"Recommend\"],test_size=0.3,\n",
    "                                                    stratify=input_data['Recommend'])"
   ]
  },
  {
   "cell_type": "code",
   "execution_count": 25,
   "id": "cc9719e8-4cf3-4ff9-b770-e5a3e1de6a93",
   "metadata": {},
   "outputs": [
    {
     "name": "stdout",
     "output_type": "stream",
     "text": [
      "15844 6791\n"
     ]
    }
   ],
   "source": [
    "#check the shape of train and test data \n",
    "print(X_train.shape[0],X_test.shape[0])"
   ]
  },
  {
   "cell_type": "code",
   "execution_count": 26,
   "id": "7121d2f9-3a56-43d7-a6a8-6fd30f11a3bd",
   "metadata": {},
   "outputs": [
    {
     "name": "stdout",
     "output_type": "stream",
     "text": [
      "Recommend\n",
      "1    12974\n",
      "0     2870\n",
      "Name: count, dtype: int64\n"
     ]
    }
   ],
   "source": [
    "#check the class balance in train data \n",
    "print(y_train.value_counts())"
   ]
  },
  {
   "cell_type": "code",
   "execution_count": 27,
   "id": "02ebd6b6-5f05-47a4-b3d9-d679a6045b07",
   "metadata": {},
   "outputs": [
    {
     "name": "stdout",
     "output_type": "stream",
     "text": [
      "Recommend\n",
      "1    5561\n",
      "0    1230\n",
      "Name: count, dtype: int64\n"
     ]
    }
   ],
   "source": [
    "#check the target class balance in test data \n",
    "print(y_test.value_counts())"
   ]
  },
  {
   "cell_type": "markdown",
   "id": "7c218251-486b-4cf8-92e3-49c056f9475c",
   "metadata": {},
   "source": [
    "### Step 6  : ML Modeling and Performance evaluation"
   ]
  },
  {
   "cell_type": "markdown",
   "id": "ebf5aae8-4bf1-4150-9be5-ad5072011e30",
   "metadata": {},
   "source": [
    "After splitting the data , we move on to the modelling part. Given we are doing text classification, we will convert the text data using two approaches :\n",
    "1. Count Vectoriser \n",
    "2. TF-IDF "
   ]
  },
  {
   "cell_type": "markdown",
   "id": "9c943665-4c2b-4743-9138-48799cf02567",
   "metadata": {},
   "source": [
    "#### Using Count vectorizer"
   ]
  },
  {
   "cell_type": "code",
   "execution_count": 28,
   "id": "c8175317-44b7-422f-90ec-b226e20edc0d",
   "metadata": {},
   "outputs": [],
   "source": [
    "#Build a list of models to be trained and tested\n",
    "modelclasses = [\n",
    "    (\"Logistic Regression\", LogisticRegression),\n",
    "    (\"MNB\", MultinomialNB),\n",
    "    (\"Random Forest\", RandomForestClassifier)]"
   ]
  },
  {
   "cell_type": "code",
   "execution_count": 33,
   "id": "61c03483-90f6-4c23-a5a2-4eac97c9ff8a",
   "metadata": {},
   "outputs": [
    {
     "data": {
      "text/html": [
       "<div>\n",
       "<style scoped>\n",
       "    .dataframe tbody tr th:only-of-type {\n",
       "        vertical-align: middle;\n",
       "    }\n",
       "\n",
       "    .dataframe tbody tr th {\n",
       "        vertical-align: top;\n",
       "    }\n",
       "\n",
       "    .dataframe thead th {\n",
       "        text-align: right;\n",
       "    }\n",
       "</style>\n",
       "<table border=\"1\" class=\"dataframe\">\n",
       "  <thead>\n",
       "    <tr style=\"text-align: right;\">\n",
       "      <th></th>\n",
       "      <th>modelname</th>\n",
       "      <th>score</th>\n",
       "      <th>auc</th>\n",
       "    </tr>\n",
       "  </thead>\n",
       "  <tbody>\n",
       "    <tr>\n",
       "      <th>0</th>\n",
       "      <td>Logistic Regression</td>\n",
       "      <td>0.88</td>\n",
       "      <td>0.91</td>\n",
       "    </tr>\n",
       "    <tr>\n",
       "      <th>1</th>\n",
       "      <td>MNB</td>\n",
       "      <td>0.89</td>\n",
       "      <td>0.92</td>\n",
       "    </tr>\n",
       "    <tr>\n",
       "      <th>2</th>\n",
       "      <td>Random Forest</td>\n",
       "      <td>0.85</td>\n",
       "      <td>0.90</td>\n",
       "    </tr>\n",
       "  </tbody>\n",
       "</table>\n",
       "</div>"
      ],
      "text/plain": [
       "             modelname  score   auc\n",
       "0  Logistic Regression   0.88  0.91\n",
       "1                  MNB   0.89  0.92\n",
       "2        Random Forest   0.85  0.90"
      ]
     },
     "execution_count": 33,
     "metadata": {},
     "output_type": "execute_result"
    }
   ],
   "source": [
    "#Use the count vectoriser to convert the text data to numerical form\n",
    "vectorizer = CountVectorizer(token_pattern=r'\\b\\w+\\b')\n",
    "X_train_vec = vectorizer.fit_transform(X_train)\n",
    "X_test_vec = vectorizer.transform(X_test)\n",
    "\n",
    "# Create an empty list to log performance of the model based on score and auc\n",
    "results = []\n",
    "\n",
    "for modelname, Model in modelclasses:\n",
    "    model = Model()\n",
    "    model.fit(X_train_vec, y_train)\n",
    "    \n",
    "    score = np.round(model.score(X_test_vec, y_test), 2)\n",
    "    auc = np.round(roc_auc_score(y_test, model.predict_proba(X_test_vec)[:, 1]), 2)\n",
    "    \n",
    "    # Append the result to the list\n",
    "    results.append({'modelname': modelname, 'score': score, 'auc': auc})\n",
    "\n",
    "# Convert the results list to a DataFrame\n",
    "results_df = pd.DataFrame(results)\n",
    "\n",
    "# Model performance\n",
    "results_df"
   ]
  },
  {
   "cell_type": "markdown",
   "id": "492d0e0d-ebdd-46ff-ad53-d94b0e6ccdfb",
   "metadata": {},
   "source": [
    "As we can observe , the Multinomial Naive Baysian performs the best out of all the models using count vectoriser "
   ]
  },
  {
   "cell_type": "markdown",
   "id": "119b8ec9-b010-46f4-9a1a-ec5e8be3da0b",
   "metadata": {},
   "source": [
    "#### Using TF-IDF"
   ]
  },
  {
   "cell_type": "code",
   "execution_count": 32,
   "id": "c8cb50b2-c36d-4948-b582-94d5eada6141",
   "metadata": {},
   "outputs": [
    {
     "data": {
      "text/html": [
       "<div>\n",
       "<style scoped>\n",
       "    .dataframe tbody tr th:only-of-type {\n",
       "        vertical-align: middle;\n",
       "    }\n",
       "\n",
       "    .dataframe tbody tr th {\n",
       "        vertical-align: top;\n",
       "    }\n",
       "\n",
       "    .dataframe thead th {\n",
       "        text-align: right;\n",
       "    }\n",
       "</style>\n",
       "<table border=\"1\" class=\"dataframe\">\n",
       "  <thead>\n",
       "    <tr style=\"text-align: right;\">\n",
       "      <th></th>\n",
       "      <th>modelname</th>\n",
       "      <th>score</th>\n",
       "      <th>auc</th>\n",
       "    </tr>\n",
       "  </thead>\n",
       "  <tbody>\n",
       "    <tr>\n",
       "      <th>0</th>\n",
       "      <td>Logistic Regression</td>\n",
       "      <td>0.88</td>\n",
       "      <td>0.93</td>\n",
       "    </tr>\n",
       "    <tr>\n",
       "      <th>1</th>\n",
       "      <td>MNB</td>\n",
       "      <td>0.82</td>\n",
       "      <td>0.90</td>\n",
       "    </tr>\n",
       "    <tr>\n",
       "      <th>2</th>\n",
       "      <td>Random Forest</td>\n",
       "      <td>0.85</td>\n",
       "      <td>0.91</td>\n",
       "    </tr>\n",
       "  </tbody>\n",
       "</table>\n",
       "</div>"
      ],
      "text/plain": [
       "             modelname  score   auc\n",
       "0  Logistic Regression   0.88  0.93\n",
       "1                  MNB   0.82  0.90\n",
       "2        Random Forest   0.85  0.91"
      ]
     },
     "execution_count": 32,
     "metadata": {},
     "output_type": "execute_result"
    }
   ],
   "source": [
    "#Use the tf-idf vectoriser to convert the text data to numerical form\n",
    "vectorizertfidf = TfidfVectorizer(token_pattern=r'\\b\\w+\\b')\n",
    "X_train_vec = vectorizertfidf.fit_transform(X_train)\n",
    "X_test_vec = vectorizertfidf.transform(X_test)\n",
    "\n",
    "# Create an empty list to log performance of the model based on score and auc\n",
    "results_tf = []\n",
    "\n",
    "for modelname, Model in modelclasses:\n",
    "    model = Model()\n",
    "    model.fit(X_train_vec, y_train)\n",
    "    \n",
    "    score = np.round(model.score(X_test_vec, y_test),2)\n",
    "    auc=np.round(roc_auc_score(y_test, model.predict_proba(X_test_vec)[:, 1]),2)\n",
    "    \n",
    "    # Append the result to the list\n",
    "    results_tf.append({'modelname': modelname, 'score': score, 'auc': auc})\n",
    "\n",
    "# Convert the results list to a DataFrame\n",
    "results_tf_df = pd.DataFrame(results_tf)  \n",
    "   \n",
    "#model comparison \n",
    "results_tf_df"
   ]
  },
  {
   "cell_type": "markdown",
   "id": "5b806a3a-343a-4734-a1fb-54a0270bebe8",
   "metadata": {},
   "source": [
    "Using the tf-idf vectoriser, we observe Logistic Regression outperforming the other models in terms of accuracy and auc."
   ]
  },
  {
   "cell_type": "markdown",
   "id": "9772ac66-c08e-4ae0-bd34-390c109205af",
   "metadata": {},
   "source": [
    "## Step 7 : Topic Modeling "
   ]
  },
  {
   "cell_type": "code",
   "execution_count": 34,
   "id": "801ebf83-4253-4343-a19d-bb6e7c4accdf",
   "metadata": {},
   "outputs": [],
   "source": [
    "#add additonal data clearning\n",
    "def topic_clean(review):\n",
    "        #remove numeric & special characters occurences\n",
    "        review = re.sub('[^a-zA-Z]', ' ', review)\n",
    "        review = re.sub(r's+', ' ', review)\n",
    "        return review"
   ]
  },
  {
   "cell_type": "code",
   "execution_count": 35,
   "id": "f630faf6-3c97-4adc-901d-4775e004e0e1",
   "metadata": {},
   "outputs": [],
   "source": [
    "#apply the function on the review column \n",
    "input_data['clean_review'] = input_data['clean_review'].apply(topic_clean)"
   ]
  },
  {
   "cell_type": "code",
   "execution_count": 36,
   "id": "4c3aa818-219d-45c7-9a00-7b6d761b9f9a",
   "metadata": {},
   "outputs": [],
   "source": [
    "# Extract every unique term from the reviews \n",
    "review_terms = pd.Series(input_data['clean_review']).apply(lambda x: x.split())"
   ]
  },
  {
   "cell_type": "code",
   "execution_count": 37,
   "id": "f3835237-8719-4909-a677-28ec03c2914e",
   "metadata": {},
   "outputs": [],
   "source": [
    "# Create the disctioanry consisting index and unique term\n",
    "dictionary = corpora.Dictionary(review_terms)"
   ]
  },
  {
   "cell_type": "code",
   "execution_count": 38,
   "id": "aa59c656-d0dd-4e1d-bd0f-01fc7fcd9bd0",
   "metadata": {},
   "outputs": [],
   "source": [
    "# Preapre the DTM(Document Term Matrix) from the term dictionary \n",
    "doc_term_matrix = [dictionary.doc2bow(rev) for rev in review_terms]"
   ]
  },
  {
   "cell_type": "code",
   "execution_count": 39,
   "id": "f69b6040-1a65-429b-b03d-e19139e319df",
   "metadata": {},
   "outputs": [],
   "source": [
    "# Build the LDA model for topic extraction \n",
    "LDA = gensim.models.ldamodel.LdaModel\n",
    "lda_model = LDA(corpus=doc_term_matrix,\n",
    "                id2word=dictionary,\n",
    "                num_topics=10, \n",
    "                chunksize=500,\n",
    "                passes=10)"
   ]
  },
  {
   "cell_type": "code",
   "execution_count": 40,
   "id": "5bae7b7f-7cc3-4837-9859-844b28681952",
   "metadata": {},
   "outputs": [
    {
     "data": {
      "text/plain": [
       "[(0,\n",
       "  '0.034*\"color\" + 0.034*\"love\" + 0.030*\"great\" + 0.026*\"weater\" + 0.024*\"fit\" + 0.020*\"oft\" + 0.018*\"i\" + 0.017*\"top\" + 0.017*\"hirt\" + 0.015*\"nice\"'),\n",
       " (1,\n",
       "  '0.050*\"top\" + 0.041*\"e\" + 0.021*\"hirt\" + 0.020*\"blou\" + 0.018*\"wear\" + 0.018*\"heer\" + 0.017*\"arm\" + 0.017*\"ee\" + 0.016*\"tank\" + 0.015*\"bra\"'),\n",
       " (2,\n",
       "  '0.049*\"ize\" + 0.031*\"mall\" + 0.025*\"fit\" + 0.025*\"i\" + 0.020*\"u\" + 0.018*\"ordered\" + 0.017*\"t\" + 0.017*\"large\" + 0.015*\"x\" + 0.015*\"run\"'),\n",
       " (3,\n",
       "  '0.066*\"t\" + 0.042*\"wai\" + 0.034*\"kirt\" + 0.026*\"fit\" + 0.020*\"length\" + 0.012*\"ize\" + 0.011*\"hort\" + 0.011*\"hip\" + 0.011*\"long\" + 0.011*\"hit\"'),\n",
       " (4,\n",
       "  '0.061*\"de\" + 0.042*\"ign\" + 0.040*\"price\" + 0.036*\"di\" + 0.018*\"ale\" + 0.017*\"quality\" + 0.014*\"appointed\" + 0.013*\"worth\" + 0.013*\"it\" + 0.012*\"retailer\"'),\n",
       " (5,\n",
       "  '0.044*\"t\" + 0.037*\"it\" + 0.025*\"i\" + 0.021*\"compliment\" + 0.020*\"love\" + 0.019*\"ab\" + 0.018*\"uit\" + 0.018*\"olutely\" + 0.016*\"many\" + 0.016*\"wore\"'),\n",
       " (6,\n",
       "  '0.032*\"like\" + 0.029*\"look\" + 0.024*\"dre\" + 0.019*\"fabric\" + 0.018*\"would\" + 0.018*\"i\" + 0.016*\"on\" + 0.015*\"top\" + 0.014*\"really\" + 0.013*\"much\"'),\n",
       " (7,\n",
       "  '0.222*\"dre\" + 0.045*\"ea\" + 0.040*\"y\" + 0.028*\"ed\" + 0.026*\"thi\" + 0.025*\"ver\" + 0.019*\"ion\" + 0.018*\"comfortable\" + 0.016*\"perfect\" + 0.016*\"lip\"'),\n",
       " (8,\n",
       "  '0.033*\"e\" + 0.026*\"jean\" + 0.022*\"love\" + 0.020*\"wear\" + 0.019*\"pant\" + 0.019*\"great\" + 0.018*\"wa\" + 0.018*\"h\" + 0.017*\"i\" + 0.014*\"pair\"'),\n",
       " (9,\n",
       "  '0.207*\"o\" + 0.149*\"al\" + 0.031*\"hirt\" + 0.026*\"tor\" + 0.018*\"hort\" + 0.018*\"long\" + 0.016*\"romper\" + 0.014*\"lay\" + 0.011*\"button\" + 0.011*\"tunic\"')]"
      ]
     },
     "execution_count": 40,
     "metadata": {},
     "output_type": "execute_result"
    }
   ],
   "source": [
    "#print the top 10 topics \n",
    "lda_model.print_topics()"
   ]
  },
  {
   "cell_type": "markdown",
   "id": "09515d76-fee0-410c-97fd-f0e9dd207a24",
   "metadata": {},
   "source": [
    "#### Topic Visualization "
   ]
  },
  {
   "cell_type": "code",
   "execution_count": 42,
   "id": "a44a1178-1fd9-41d5-89a5-adba11315ec0",
   "metadata": {},
   "outputs": [
    {
     "data": {
      "text/html": [
       "\n",
       "<link rel=\"stylesheet\" type=\"text/css\" href=\"https://cdn.jsdelivr.net/gh/bmabey/pyLDAvis@3.4.0/pyLDAvis/js/ldavis.v1.0.0.css\">\n",
       "\n",
       "\n",
       "<div id=\"ldavis_el194351702330401032508747\" style=\"background-color:white;\"></div>\n",
       "<script type=\"text/javascript\">\n",
       "\n",
       "var ldavis_el194351702330401032508747_data = {\"mdsDat\": {\"x\": [0.14078827039354147, 0.14484281150730918, 0.11367318473307286, 0.11727261027074035, 0.1017252150706679, 0.03177305293231428, -0.021351948571352395, -0.07764690189223346, -0.10460094738801198, -0.44647534705604813], \"y\": [-0.017263515217899917, 0.039556887750919166, 0.11942661812963065, -0.01011755706168899, 0.06987088607371374, 0.1449648182862156, -0.2297970510204072, -0.316574752018693, 0.09470162482034852, 0.10523204025786163], \"topics\": [1, 2, 3, 4, 5, 6, 7, 8, 9, 10], \"cluster\": [1, 1, 1, 1, 1, 1, 1, 1, 1, 1], \"Freq\": [21.276367843726156, 18.15157417676344, 14.076677106737684, 11.102918717231807, 9.914193664746849, 6.789180456577973, 6.311548223237076, 5.073283619399023, 4.79053688670928, 2.5137193048707123]}, \"tinfo\": {\"Term\": [\"dre\", \"o\", \"al\", \"t\", \"ize\", \"top\", \"mall\", \"wai\", \"de\", \"e\", \"hirt\", \"kirt\", \"it\", \"weater\", \"color\", \"ea\", \"ign\", \"ed\", \"great\", \"look\", \"price\", \"fit\", \"jean\", \"y\", \"u\", \"wear\", \"di\", \"thi\", \"love\", \"on\", \"mall\", \"x\", \"ually\", \"l\", \"did\", \"local\", \"available\", \"ran\", \"broad\", \"picked\", \"exchange\", \"ider\", \"build\", \"romantic\", \"recently\", \"armpit\", \"pop\", \"muted\", \"leave\", \"burgundy\", \"early\", \"notice\", \"initially\", \"attractive\", \"wallowed\", \"require\", \"rack\", \"friday\", \"generou\", \"boyfriend\", \"order\", \"large\", \"normally\", \"reference\", \"maller\", \"izing\", \"medium\", \"u\", \"ize\", \"run\", \"tore\", \"ordered\", \"glad\", \"petite\", \"big\", \"lb\", \"typically\", \"decided\", \"tried\", \"went\", \"try\", \"c\", \"regular\", \"fit\", \"m\", \"che\", \"i\", \"would\", \"retailer\", \"t\", \"e\", \"wear\", \"top\", \"ed\", \"one\", \"little\", \"dre\", \"me\", \"like\", \"it\", \"love\", \"appear\", \"adly\", \"traight\", \"odd\", \"taller\", \"tand\", \"tiff\", \"relaxed\", \"tated\", \"pite\", \"movement\", \"trange\", \"clingy\", \"pleat\", \"giving\", \"brighter\", \"poncho\", \"cuter\", \"hug\", \"tomach\", \"lavender\", \"pale\", \"flaw\", \"negative\", \"dream\", \"ey\", \"turdy\", \"beige\", \"prettier\", \"funny\", \"type\", \"per\", \"picture\", \"looked\", \"model\", \"look\", \"like\", \"body\", \"much\", \"kind\", \"on\", \"v\", \"part\", \"unfortunately\", \"way\", \"wanted\", \"me\", \"photo\", \"fabric\", \"really\", \"back\", \"better\", \"made\", \"would\", \"material\", \"cut\", \"hape\", \"front\", \"dre\", \"think\", \"top\", \"i\", \"it\", \"color\", \"however\", \"thi\", \"make\", \"t\", \"nice\", \"flattering\", \"love\", \"beautiful\", \"fit\", \"weater\", \"tee\", \"cardigan\", \"weather\", \"intere\", \"ting\", \"te\", \"beading\", \"purple\", \"ilky\", \"throughout\", \"ilver\", \"combo\", \"warmer\", \"cooler\", \"teal\", \"bag\", \"lighter\", \"unu\", \"both\", \"metallic\", \"wri\", \"errand\", \"hmere\", \"trou\", \"falling\", \"cour\", \"perfection\", \"tantly\", \"flair\", \"grey\", \"wardrobe\", \"blue\", \"pring\", \"cream\", \"pink\", \"fall\", \"oft\", \"navy\", \"warm\", \"color\", \"great\", \"red\", \"hirt\", \"nice\", \"true\", \"ic\", \"light\", \"love\", \"leeve\", \"weight\", \"ummer\", \"white\", \"green\", \"fit\", \"well\", \"thi\", \"comfortable\", \"perfect\", \"detail\", \"bought\", \"top\", \"uper\", \"material\", \"i\", \"look\", \"ual\", \"cute\", \"little\", \"flattering\", \"fabric\", \"ize\", \"it\", \"like\", \"wa\", \"pair\", \"hed\", \"kinny\", \"ub\", \"tantial\", \"dry\", \"outfit\", \"andal\", \"hing\", \"throw\", \"cold\", \"awe\", \"fanta\", \"comfort\", \"hou\", \"round\", \"clean\", \"adore\", \"rolled\", \"tan\", \"date\", \"machine\", \"flim\", \"ock\", \"antly\", \"ro\", \"trip\", \"hrink\", \"onally\", \"leather\", \"them\", \"jean\", \"tyli\", \"pant\", \"hand\", \"coat\", \"denim\", \"legging\", \"favorite\", \"h\", \"year\", \"ome\", \"e\", \"plea\", \"day\", \"the\", \"boot\", \"wear\", \"great\", \"love\", \"worn\", \"comfortable\", \"black\", \"ed\", \"oft\", \"bought\", \"i\", \"perfect\", \"look\", \"go\", \"purcha\", \"color\", \"one\", \"t\", \"fit\", \"wai\", \"kirt\", \"knee\", \"ela\", \"heel\", \"thigh\", \"adju\", \"inch\", \"tly\", \"tband\", \"pencil\", \"table\", \"pulled\", \"tline\", \"butt\", \"height\", \"ag\", \"originally\", \"natural\", \"n\", \"call\", \"everyone\", \"hone\", \"draw\", \"wingy\", \"bring\", \"plenty\", \"turquoi\", \"cular\", \"doe\", \"mu\", \"hit\", \"hip\", \"leg\", \"hourgla\", \"tic\", \"t\", \"length\", \"high\", \"flare\", \"ted\", \"tall\", \"figure\", \"ankle\", \"hort\", \"fit\", \"inche\", \"long\", \"hem\", \"right\", \"petite\", \"flattering\", \"lb\", \"tight\", \"perfect\", \"ize\", \"e\", \"bit\", \"work\", \"great\", \"fabric\", \"pant\", \"dre\", \"i\", \"the\", \"blou\", \"heer\", \"tank\", \"bra\", \"underneath\", \"cami\", \"xx\", \"through\", \"occa\", \"titching\", \"ole\", \"nude\", \"frumpy\", \"ent\", \"hapele\", \"impre\", \"blazer\", \"chance\", \"ection\", \"leevele\", \"k\", \"worry\", \"appoint\", \"do\", \"remind\", \"anywhere\", \"currently\", \"ridiculou\", \"toward\", \"igned\", \"trap\", \"hole\", \"arm\", \"tead\", \"cover\", \"ee\", \"top\", \"e\", \"hirt\", \"lace\", \"white\", \"layer\", \"low\", \"front\", \"need\", \"neck\", \"back\", \"wear\", \"ide\", \"leeve\", \"thin\", \"loo\", \"little\", \"houlder\", \"thi\", \"pretty\", \"compliment\", \"ab\", \"uit\", \"olutely\", \"jump\", \"highly\", \"he\", \"week\", \"ite\", \"home\", \"deal\", \"reading\", \"except\", \"ton\", \"excellent\", \"party\", \"web\", \"together\", \"meant\", \"hu\", \"tock\", \"event\", \"tring\", \"everyday\", \"walk\", \"kimono\", \"crotch\", \"ladie\", \"itant\", \"become\", \"received\", \"wore\", \"band\", \"many\", \"can\", \"fir\", \"wait\", \"it\", \"recommend\", \"time\", \"t\", \"got\", \"get\", \"i\", \"love\", \"one\", \"wear\", \"wearing\", \"la\", \"day\", \"review\", \"lot\", \"know\", \"bought\", \"beautiful\", \"de\", \"ign\", \"price\", \"di\", \"appointed\", \"orange\", \"cheap\", \"tran\", \"ter\", \"ive\", \"whole\", \"airy\", \"mail\", \"cription\", \"expecting\", \"ack\", \"hemline\", \"rayon\", \"pay\", \"ft\", \"igner\", \"quickly\", \"pear\", \"idering\", \"haped\", \"terday\", \"expen\", \"poor\", \"ition\", \"count\", \"worth\", \"clothing\", \"ye\", \"full\", \"ale\", \"quality\", \"aw\", \"retailer\", \"unflattering\", \"tore\", \"texture\", \"it\", \"con\", \"fabric\", \"i\", \"loved\", \"one\", \"t\", \"online\", \"high\", \"piece\", \"ver\", \"ion\", \"lip\", \"ily\", \"atile\", \"wedding\", \"awkward\", \"cannot\", \"what\", \"money\", \"ea\", \"daughter\", \"plaid\", \"itive\", \"mea\", \"keeper\", \"peach\", \"minute\", \"tatement\", \"aying\", \"leeved\", \"j\", \"im\", \"pullover\", \"heat\", \"hei\", \"matter\", \"art\", \"urement\", \"ae\", \"y\", \"dre\", \"cla\", \"taple\", \"next\", \"down\", \"ed\", \"elegant\", \"thi\", \"comfortable\", \"ummer\", \"perfect\", \"on\", \"beautiful\", \"flattering\", \"wear\", \"purcha\", \"lovely\", \"ca\", \"piece\", \"worn\", \"year\", \"love\", \"wearing\", \"o\", \"al\", \"tor\", \"romper\", \"lay\", \"covered\", \"weat\", \"edge\", \"bell\", \"weet\", \"move\", \"honey\", \"fence\", \"dot\", \"eriou\", \"width\", \"double\", \"attention\", \"ary\", \"yarn\", \"fix\", \"crop\", \"faded\", \"flirty\", \"bum\", \"realized\", \"capri\", \"late\", \"triped\", \"cling\", \"imilar\", \"bulky\", \"tunic\", \"hirt\", \"loppy\", \"hort\", \"long\", \"button\", \"ly\", \"pictured\"], \"Freq\": [13488.0, 3892.0, 2812.0, 12231.0, 9701.0, 8690.0, 4862.0, 3098.0, 2309.0, 8628.0, 3423.0, 2514.0, 6142.0, 2738.0, 6922.0, 1620.0, 1597.0, 3872.0, 6162.0, 6898.0, 1516.0, 9894.0, 2595.0, 1451.0, 3681.0, 6588.0, 1381.0, 4921.0, 9239.0, 3749.0, 4862.017620537926, 2412.4441257085055, 1948.6034082499202, 454.39333796627164, 394.01952290718805, 353.1992440780046, 312.353942760466, 297.0387156081622, 257.3577570117304, 179.21113574033544, 178.6087239669792, 177.38499454017614, 170.43285758663887, 150.1160057156705, 131.26496194495888, 129.4911455482267, 122.18829525142122, 112.81234106197934, 104.42782419911013, 86.57680880930648, 84.1534734879924, 95.72834834855574, 79.34918352656723, 78.28145541327616, 73.4806315298676, 72.46092805904186, 70.71962699578896, 70.55338963102206, 70.27573268616263, 69.62735367493913, 868.0384989401758, 2689.1187062102963, 826.4790001994514, 557.426825705938, 619.7285956900215, 675.3352374787402, 2020.7455776100824, 3212.114662080245, 7740.103489740937, 2333.93074889853, 1789.6363923477343, 2826.3540431443835, 561.1498012696541, 2023.093613776624, 1393.7155310290855, 1620.0441235532396, 489.1691474380304, 384.05727328040825, 1481.4972375258108, 775.0348400810248, 911.8805676038342, 553.8722607564404, 833.5982132344949, 3930.6709656671987, 841.2929805720601, 820.3284354914009, 3903.331135397883, 2255.2547073790697, 1188.9632185527562, 2726.9479635980933, 2186.1266542902868, 1842.64299370941, 2080.7243709863324, 1302.6304112252421, 1239.3206241991536, 1200.483201487939, 1608.9408113871116, 996.4250684441114, 1070.8424677972898, 971.6035755435651, 979.1137325225989, 326.8169300618754, 322.97301768496413, 302.7329181430309, 251.9566076457974, 222.91524447575242, 221.67830628161894, 192.13581418133242, 159.91977528155303, 150.19901889411892, 143.3188575539159, 138.86513368270545, 135.33218342163778, 133.53888158225428, 131.12707901985783, 127.58428518304073, 126.9738727957641, 119.22805396312859, 115.32920731769755, 114.91188714484076, 114.34269127192702, 112.50749296033769, 112.43404170032784, 112.05232443638648, 110.06175575768698, 109.51140894869826, 108.25376366630151, 105.38196171667444, 104.87676094586185, 101.58697467850813, 100.85057242812526, 457.5359157786753, 1270.3656807147713, 1121.7104507576257, 1096.4672530333382, 1108.7850530564488, 4006.360947036653, 4297.658429055077, 801.0920480178727, 1766.0243342969454, 367.0045891435498, 2186.064591533037, 220.8345260374585, 450.8403867122882, 506.1278854249465, 1263.654401927185, 744.7637710422805, 1707.2900185876488, 692.2471163525469, 2557.457691846768, 1895.5419451960945, 1694.0459578527327, 810.3810311750444, 1048.3798121065233, 2429.3222612995974, 1531.8918885382216, 1023.1688728473426, 672.2853251370234, 842.0180464391337, 3301.266296062432, 991.4599401816334, 2074.344292092652, 2391.017927313116, 1654.0603885671671, 1573.1115022438448, 728.7655331580783, 1210.3298940681548, 861.6721804501897, 1451.9917185903248, 946.7021421208492, 958.0558568005193, 1076.3200072693983, 851.889263265533, 853.8796105626093, 2737.7627009548287, 666.1625618848312, 487.9067973513056, 338.2606152136241, 272.8916069565403, 271.95730779504737, 217.80881699451024, 184.7937126258428, 210.43544691478428, 171.05968172971845, 141.61179552383012, 140.3726117905801, 130.52161002885674, 127.61777517368664, 123.62354447478182, 119.44675337768905, 119.2377047374049, 111.11367504497795, 109.51317206861582, 106.3699006732012, 103.77109754668881, 97.82223079028583, 96.805327555293, 96.18030314642327, 91.80815513233355, 91.12438446246298, 90.28254888680591, 83.78639335424049, 83.01825885960106, 79.59179627218305, 551.1021019782958, 380.83850229124323, 1084.135200558375, 472.4143641245457, 286.01336704184115, 342.4999357303689, 1011.7860990382433, 2135.8768507067143, 426.26453760025527, 493.98668280148433, 3633.620555844085, 3135.011576692215, 638.5267902782734, 1800.456044833453, 1605.4160547479764, 998.1935104496825, 365.44657722754835, 816.7055427005195, 3582.9016547151023, 1108.4505238612746, 626.743741043284, 832.9009934934322, 784.0365145726837, 448.66216122769094, 2492.091319043887, 1258.4926806921442, 1563.3013194886394, 1157.361749624093, 1279.8579005577308, 650.5025169483627, 1099.2298686829904, 1842.5087779853652, 765.8743608564289, 1036.6102909031908, 1872.2992209295473, 1414.6539157610348, 847.6806477463037, 939.4259116982714, 1028.2005683514515, 995.1856234027596, 1076.8180689408032, 1070.2413327421202, 975.5689218293227, 895.0088576777734, 1524.2569167878873, 1162.1984673009183, 623.7354612237847, 589.4418746941312, 315.1539060846063, 278.3430263080104, 276.29072631978255, 270.9261352496023, 256.8126409804783, 255.1784035339188, 229.7708368241587, 223.89294829062055, 210.09849004191184, 168.49220406226377, 168.00850428937613, 160.4818793099272, 160.36926299942226, 148.04792823316757, 142.48788600895713, 130.57203960214483, 127.79850386633382, 124.24658756094676, 118.4527429269171, 117.93182357464073, 115.82293009394839, 110.83628025168787, 109.24545275115138, 101.07817318729168, 94.15352267323696, 90.10994617036847, 162.25364929269472, 529.80512061261, 2128.6620296410747, 283.25339922639887, 1614.5036410435303, 227.763455683821, 450.7557249740466, 469.70346999685285, 722.9815083536245, 544.0028812475433, 1455.0108565799421, 514.577437728895, 222.79439035178103, 2747.8313216762335, 345.6604777910395, 648.03415916528, 948.1001492378364, 405.3069043204268, 1664.7296450084225, 1552.543951882488, 1866.0204040234692, 571.6054939311391, 924.6035293631891, 690.9840448780072, 910.7831489541992, 844.851488421841, 795.671269520231, 1417.8971324606587, 852.3840813016234, 1076.8032881357424, 559.4767859641377, 661.5692023622202, 953.5259282132176, 694.909356360817, 726.29242594798, 630.8926857467796, 3097.6576515023744, 2513.7288954147016, 725.6193164579222, 448.37293349910334, 350.65629681341676, 307.4429017959217, 242.1001574145081, 184.72551754975933, 180.9711888933015, 178.68951652334775, 165.8741386372534, 159.95254165740286, 146.59202149357628, 146.07567455717236, 144.53843171924268, 139.44347004788975, 139.24469236922428, 130.48847300666657, 125.94704865556865, 124.28582347667687, 123.7436436470777, 119.75598117498545, 117.26475230633693, 115.23979377270616, 107.1801470176674, 105.41118545973268, 99.53330834125103, 98.3649809830744, 98.1734669163037, 96.70133747917605, 453.51643440808823, 780.3029651716043, 844.5271824162267, 520.9708429114934, 214.01360987189219, 471.7343330851218, 4886.679768126635, 1503.5610981881066, 741.8596125870788, 258.66501003329705, 441.9099599190308, 404.99077394364946, 387.08490828746426, 258.49213434282706, 853.1846477497659, 1961.340625012786, 233.30420842684234, 787.1431629052024, 292.34032393985854, 584.6385690246027, 665.455190519339, 717.2389220751363, 546.2715318677847, 494.00890286568523, 641.748972334883, 890.0546380850135, 776.3057503157361, 543.3365489973046, 519.1489804940398, 633.0897796263391, 571.302266658342, 480.6131787992629, 633.2365374067381, 606.9726296003279, 470.85250814522414, 1028.4053867837672, 915.2721666668504, 809.4993989930259, 772.7613443756952, 770.0996389775612, 755.0917635072459, 543.5790653542197, 432.5086267023906, 239.87561208708644, 209.32620941799465, 201.17335856229965, 195.37633984157085, 162.78719852263805, 151.88780496339342, 151.3559394079827, 145.82611324926307, 139.40244351184415, 127.36366080978719, 122.83652832519839, 117.1559657215663, 114.22628705002367, 109.0989294467228, 109.1070204557725, 103.7192482848857, 101.36144071349943, 94.66432680839485, 94.10047574352456, 89.88276521028317, 89.20753265241315, 85.19181936483976, 373.02920607020366, 409.29263547246194, 875.6854617580799, 208.89601377893194, 253.72512476178872, 849.603076795813, 2531.7302931796166, 2068.8002295038937, 1043.4238136869367, 365.1386032709874, 610.1975476029289, 279.92286574781656, 317.53848729406235, 499.99294155110084, 409.16985086144484, 340.6615738674468, 675.4585856491449, 925.0277470520186, 481.1718823421071, 520.4698659805783, 395.6470777364068, 351.5585779766505, 459.7399349497125, 355.8785380453092, 415.81450924077336, 347.7306553530658, 1009.1912559950201, 889.1221001767291, 845.7833021788051, 842.1838394570416, 426.2780403976963, 346.7760566931997, 330.6334143076554, 224.24703341727914, 210.95558954281867, 210.95937243166225, 208.43532782493037, 194.8002788783563, 193.3801560142217, 189.59379219133672, 177.79271854709486, 175.68904746310784, 172.79547839762176, 163.24304625488193, 163.1510582747171, 156.3704609547347, 154.8838516198199, 146.28758861937914, 137.71548552239585, 137.55000612902822, 131.74020365530419, 126.52441370095413, 115.89846588437439, 115.4635656285993, 112.43991577203496, 112.19661223812619, 665.786852938456, 749.8414114049847, 300.84294472892003, 753.6543874110135, 510.14657750469496, 603.6650881033949, 364.4355935179474, 1751.6605208371047, 525.2042345853997, 615.4469393938617, 2077.480033142963, 664.8775080423663, 573.9271830847537, 1162.178670659509, 960.1424951972414, 617.8668885767753, 720.4347730826357, 399.14936096538736, 235.48014589002634, 313.1476704343154, 302.9922634047378, 276.0444368501085, 241.31826504622788, 283.5077686289712, 264.73095998297464, 2308.9405424200854, 1596.7492583722035, 1515.3001770611795, 1380.4758050547402, 542.0891189722704, 349.82132285968896, 339.84856559440226, 275.57177131126923, 238.46577907122864, 231.41559829371818, 194.629270867653, 180.8917983534723, 177.70973507554393, 174.05876407026886, 170.75033401375984, 169.22588889851195, 149.9400167307228, 143.33991594983877, 138.29027437411332, 136.24140182416946, 135.56675031267022, 131.19475677460088, 130.69266627677348, 128.6707182656906, 128.27976441497395, 127.83762211890468, 126.13727473073041, 124.1367885648066, 123.89185127923923, 116.60747297805115, 495.9810141197093, 226.01995959893955, 263.08857923546594, 369.2443988003607, 682.4084658414856, 655.7911814029484, 419.10553333373497, 464.496345842405, 182.1290012445485, 387.37131365094024, 176.30718404791693, 493.39594017388663, 243.87886656433676, 295.6589799843054, 328.31719044064494, 208.80603942001943, 218.78590349070473, 221.1395819741823, 197.74788557698508, 188.54672937744166, 184.47696953363862, 882.2178733746825, 665.6063401693326, 574.5213633995562, 528.6024066565981, 493.79410754728883, 334.77335226611945, 223.42325338584152, 181.16309432453903, 170.3358897203344, 163.82593517077723, 1611.2429059456679, 145.59683380168926, 140.90368296276463, 137.46997002330642, 121.8574339188938, 110.18855911338962, 94.9345627125344, 94.09855155581562, 87.92503471859179, 75.60405935857068, 75.42330379892269, 74.68418917397123, 72.83737082570967, 72.54483661558118, 72.08304021510813, 71.64340423257308, 64.7164916121711, 63.05307054569588, 62.45481438143059, 62.0280573159872, 1428.6721785350373, 7944.402225460591, 396.37360500914866, 242.42141724412258, 187.59130155459155, 516.9417700177623, 1006.6777249467998, 152.06109866092908, 930.0996004530944, 650.9244748449287, 424.5547455806953, 576.0370525197815, 528.1458102336676, 477.388253520716, 466.20748383031406, 565.8471665114616, 348.9448685907488, 229.31767415714785, 246.4940429940894, 234.08591167018557, 232.23779124087002, 193.02547006000808, 223.89822918364945, 196.00398047099742, 3891.8761904456805, 2811.2948421343913, 488.45280350122783, 294.68394339006403, 270.7358455128908, 203.99675982275403, 189.11600682317373, 143.7884623212858, 134.99857249280436, 127.53138336774727, 126.0247783626309, 119.68733714472904, 118.1553998585699, 116.39768817964527, 111.56750016492242, 103.67190467705744, 99.07445480455684, 97.78435671179679, 94.0099607090548, 92.19342067622861, 88.47288642871902, 88.24450172483643, 87.61065161390356, 82.71449630715678, 79.38068227948045, 79.1477777080259, 77.06409247905768, 76.63267287120183, 72.26135214851448, 69.93567005634814, 196.60540987102627, 143.43331985842323, 209.22430200931083, 578.9421990650986, 89.79142640133588, 339.99484496872185, 339.1871901826677, 214.1916890274822, 102.8529414626401, 93.68224403178867], \"Total\": [13488.0, 3892.0, 2812.0, 12231.0, 9701.0, 8690.0, 4862.0, 3098.0, 2309.0, 8628.0, 3423.0, 2514.0, 6142.0, 2738.0, 6922.0, 1620.0, 1597.0, 3872.0, 6162.0, 6898.0, 1516.0, 9894.0, 2595.0, 1451.0, 3681.0, 6588.0, 1381.0, 4921.0, 9239.0, 3749.0, 4862.937598721663, 2413.3662754678326, 1949.5233453604353, 455.3132933492287, 394.9394970303036, 354.1191983554523, 313.2739339597902, 297.9586742410927, 258.277832423195, 180.1312926402661, 179.52862982279953, 178.30515257560134, 171.3528730869567, 151.03645905382618, 132.18525352625835, 130.4113019403998, 123.10852449681987, 113.73253885755452, 105.34812617656803, 87.49715112918967, 85.07390648877582, 96.79456534275724, 80.26921437073612, 79.20162610871476, 74.40071284425616, 73.38114649872483, 71.63966157885459, 71.47439981318193, 71.19572959990174, 70.54764294644286, 899.3435236899855, 2858.762501170793, 873.4651615469583, 588.4036024233638, 656.0035566690196, 721.5302064807333, 2236.950224925146, 3681.1370270847897, 9701.122865237801, 2752.8076557508516, 2177.8250656057444, 3611.1409118519773, 647.3009576904532, 2689.3708934505153, 1826.8928671016197, 2167.137769434267, 570.9903403767138, 442.8372083636115, 2168.341231722645, 1028.2426060805512, 1250.9232044898035, 699.3496117710927, 1207.0984119610903, 9894.62849346509, 1243.2605922081705, 1211.854551895378, 11971.549241966768, 5364.2343448927, 2185.3917251882012, 12231.992205010181, 8628.765841434806, 6588.063923834868, 8690.115045916094, 3872.127546016247, 3649.5621766623863, 4006.210420437959, 13488.464556120693, 3019.9812836592323, 7512.463374956885, 6142.655648659443, 9239.056127831249, 327.7352347760081, 323.89126530991797, 303.65128880745874, 252.87489054642663, 223.83365917679882, 222.59661921986893, 193.05410572434332, 160.83816959661493, 151.11745343251266, 144.23743193413728, 139.7835683286898, 136.25039024885749, 134.45725795257863, 132.04539887736442, 128.50266640441387, 127.89218740870588, 120.14646935105593, 116.2475015577, 115.8301833250986, 115.26098808359497, 113.42596551571901, 113.3524598178745, 112.97067501862587, 110.98018406884094, 110.42999407034546, 109.17205864677807, 106.30062289529891, 105.79508864440277, 102.50518585605475, 101.76897305300048, 486.82758370452734, 1477.790541535482, 1313.1038630963953, 1402.4943688544668, 1540.7343642591845, 6898.6157309303735, 7512.463374956885, 1102.0166406206724, 2861.2274839475713, 453.8221583479554, 3749.810929800087, 250.52216942201613, 587.3398770945795, 674.5971559977366, 2082.68339297615, 1097.9938214554895, 3019.9812836592323, 1005.7982429866574, 5107.941955714442, 3580.9193112741723, 3263.736334591408, 1294.9359888973072, 1803.749489386933, 5364.2343448927, 3006.742653040112, 1862.8172445733137, 1061.2742819328496, 1477.0192952906787, 13488.464556120693, 2193.6329824800505, 8690.115045916094, 11971.549241966768, 6142.655648659443, 6922.040203583125, 1442.91509267367, 4921.67307159543, 2167.4047688968635, 12231.992205010181, 3006.115009459783, 3633.1353425018465, 9239.056127831249, 3037.7995565199835, 9894.62849346509, 2738.682317439884, 667.0821196203474, 488.8263907950542, 339.1801814291533, 273.81118890674895, 272.8769416952553, 218.72870889988957, 185.7135743714626, 211.4982270402586, 171.97965814812335, 142.5315809002742, 141.29304263650758, 131.44135260009745, 128.537368736247, 124.54314542955628, 120.36638777792753, 120.15746073298644, 112.03335455331661, 110.43295520783433, 107.29021924245544, 104.69082487229791, 98.7419279396721, 97.72496074382568, 97.09989549654819, 92.72783289137894, 92.0442235402011, 91.20270575038109, 84.70627278819084, 83.93806222086037, 80.51153362618156, 589.724211160914, 411.9818592473713, 1352.9978071253527, 550.2482766061321, 328.69052452086385, 402.73862299817745, 1386.6822895615212, 3315.634906068026, 542.4784429370259, 648.9449239365466, 6922.040203583125, 6162.6575726639685, 927.1853192553538, 3423.5317391874046, 3006.115009459783, 1673.0391628538666, 482.7267548123057, 1359.9661431828129, 9239.056127831249, 2253.485505554119, 1057.301849871086, 1635.0654740089585, 1555.3529990350414, 668.1283043089987, 9894.62849346509, 3427.8196563177667, 4921.67307159543, 3124.8478163674886, 3835.589659237682, 1210.6919166352263, 3120.777863207028, 8690.115045916094, 1649.4103788925297, 3006.742653040112, 11971.549241966768, 6898.6157309303735, 2202.8266407006295, 2941.4863072302414, 4006.210420437959, 3633.1353425018465, 5107.941955714442, 9701.122865237801, 6142.655648659443, 7512.463374956885, 1525.1703704896634, 1163.1119036516839, 624.6493029462034, 590.3553593638724, 316.0674524625641, 279.25657955785687, 277.20411138613116, 271.83961579079545, 257.72617373454784, 256.0918606711933, 230.68429171221408, 224.80639661926475, 211.0119363035854, 169.4057165074817, 168.92202162320757, 161.39532888831985, 161.2828976274832, 148.96139595559436, 143.40146791810736, 131.48580513739427, 128.71208386000234, 125.16017319767019, 119.36615510180815, 118.84563896586069, 116.73641898815514, 111.7497548516606, 110.15906673060687, 101.99166357076943, 95.06693540615755, 91.02368043889282, 166.3878104424913, 577.8857531443053, 2595.082808043489, 307.4374449308978, 2095.932389569613, 245.74146841976122, 539.7553240465658, 576.2477673596653, 953.3744246443607, 695.7418300164732, 2368.0692215273884, 708.412844057912, 260.0317812669553, 8628.765841434806, 487.9136076856872, 1238.741299264626, 2426.4767623470743, 659.8649842158364, 6588.063923834868, 6162.6575726639685, 9239.056127831249, 1214.282388798027, 3124.8478163674886, 1832.7107764720988, 3872.127546016247, 3315.634906068026, 3120.777863207028, 11971.549241966768, 3835.589659237682, 6898.6157309303735, 1484.361605266988, 2427.3964247140702, 6922.040203583125, 3649.5621766623863, 12231.992205010181, 9894.62849346509, 3098.5780232139236, 2514.649331356356, 726.5397321954142, 449.2933385435999, 351.57674505818477, 308.3632925764911, 243.02069779720443, 185.64587641847575, 181.89162256921932, 179.6098499274785, 166.7945963050349, 160.87310226893206, 147.51259811316842, 146.99607058002198, 145.45882374791415, 140.36390698564196, 140.16509667888667, 131.40906493841163, 126.86749447021661, 125.20660120063833, 124.66428264622388, 120.67649757294492, 118.18556733674265, 116.16023420333762, 108.10063271167519, 106.33179682767364, 100.45383210389168, 99.28553966708759, 99.09381956757775, 97.62183317429653, 473.98593277114395, 920.5201832921967, 1056.9670598440416, 636.5608165306061, 245.718893410891, 644.8308451831642, 12231.992205010181, 2945.171936085521, 1204.688642134177, 328.53044125295605, 678.3717544823837, 631.9758735342363, 642.7205850160838, 361.2328267499882, 2392.5542294859815, 9894.62849346509, 316.1452517025678, 2453.386949651453, 467.9015936927146, 1822.7801888856486, 2689.3708934505153, 3633.1353425018465, 2167.137769434267, 1767.386487265694, 3835.589659237682, 9701.122865237801, 8628.765841434806, 2939.9994480000532, 2612.0399474553246, 6162.6575726639685, 5107.941955714442, 2095.932389569613, 13488.464556120693, 11971.549241966768, 2426.4767623470743, 1029.322041942816, 916.1888498118877, 810.4160376386285, 773.6779741516632, 771.0162842600712, 756.0083828782392, 544.495797821716, 433.4252697556543, 240.79251971220128, 210.24300767077105, 202.0900118066209, 196.29295140950217, 163.70397921724305, 152.80461756767085, 152.27270540125443, 146.74305759617474, 140.3190973610699, 128.28043450495812, 123.75318551437368, 118.07268534258021, 115.14342822274749, 110.01565678378304, 110.02386118483587, 104.6360785283975, 102.27826381728859, 95.58103385533515, 95.01733312738432, 90.79949220503178, 90.12440587953508, 86.10855533936909, 422.6000579321268, 528.3932395620766, 1381.2405610538917, 251.89649584972366, 322.5587150247164, 1861.7927227517869, 8690.115045916094, 8628.765841434806, 3423.5317391874046, 692.7044315412057, 1555.3529990350414, 475.9238497142714, 595.7574156181139, 1477.0192952906787, 1047.6328816282496, 749.9147001624212, 3263.736334591408, 6588.063923834868, 1810.828257656181, 2253.485505554119, 1156.3328587875487, 1413.056927308701, 4006.210420437959, 1527.0339353308311, 4921.67307159543, 2177.1876759974166, 1010.1072083851524, 890.0380363062097, 846.6992091135095, 843.099771296089, 427.19398412880145, 347.6920050549721, 331.54939051661967, 225.162966974143, 211.87152536760726, 211.8753502991428, 209.35148927995348, 195.7162436431947, 194.29637799516047, 190.50973532809334, 178.70882248424266, 176.60508453939894, 173.71143014386527, 164.1590618223443, 164.067116084254, 157.28636117486047, 155.79984601218976, 147.20353720474733, 138.63149369198717, 138.4661875075349, 132.65652198048275, 127.44042311773678, 116.81468394698666, 116.3796675392153, 113.3558442708273, 113.11265827208639, 827.4103062637474, 958.7166566923424, 343.8291490479092, 1109.7188072930228, 942.4670517658587, 1226.8769522388618, 585.6791489847552, 6142.655648659443, 1044.8438490717529, 1338.5072895203875, 12231.992205010181, 2339.427113325196, 2068.7488825569712, 11971.549241966768, 9239.056127831249, 3649.5621766623863, 6588.063923834868, 1496.6854264596705, 365.6653885823616, 1238.741299264626, 1391.882219547923, 1013.2634183720288, 494.00724897569324, 3120.777863207028, 3037.7995565199835, 2309.8561620339674, 1597.664854751575, 1516.2158069387563, 1381.3914333400744, 543.0046848882159, 350.7369688091423, 340.7641689704252, 276.4874092301461, 239.38138760169664, 232.33122323845637, 195.54501936699572, 181.80761644957198, 178.62539061615118, 174.9743992954957, 171.66600097347765, 170.14162597962363, 150.85628652176337, 144.25559046823747, 139.2059020396001, 137.15716838359359, 136.4823489435002, 132.1106258153438, 131.60834313965833, 129.586389217396, 129.19539191276127, 128.75320381947932, 127.05284150278415, 125.05233333859687, 124.80741512663735, 117.52307429708775, 666.4986454205756, 278.510999461635, 360.6670353285516, 615.6519960016773, 1608.714304514719, 2262.130325688713, 1127.6673106935152, 2185.3917251882012, 291.08532441883165, 2177.8250656057444, 281.4913656852666, 6142.655648659443, 852.7355634660566, 5107.941955714442, 11971.549241966768, 1279.3441120220214, 3649.5621766623863, 12231.992205010181, 1683.156572250974, 1204.688642134177, 1235.3942827024412, 883.1325609097252, 666.5210703441626, 575.4361320651522, 529.517102481733, 494.7087573324081, 335.68801700958664, 224.3381570264777, 182.07783887429855, 171.2508212073871, 164.740833033593, 1620.3705169625523, 146.5117245616754, 141.8185776224645, 138.38475071829293, 122.77214818618707, 111.10331701565265, 95.8494439549786, 95.0133679543058, 88.83976607402936, 76.51884780691282, 76.33818768154542, 75.59910421386586, 73.75210884045076, 73.45958419664616, 72.99781869934444, 72.55819302891356, 65.6313660510517, 63.967758017097175, 63.3694805719148, 62.942831534467295, 1451.1515946449235, 13488.464556120693, 490.4747515226047, 305.8234700663854, 253.86475512901217, 1113.6931008204267, 3872.127546016247, 225.71042839160194, 4921.67307159543, 3124.8478163674886, 1635.0654740089585, 3835.589659237682, 3749.810929800087, 3037.7995565199835, 3633.1353425018465, 6588.063923834868, 2427.3964247140702, 1059.8019434844855, 1530.3029390588988, 1235.3942827024412, 1214.282388798027, 708.412844057912, 9239.056127831249, 1496.6854264596705, 3892.786103614331, 2812.2047393270745, 489.36269084511764, 295.5939267788215, 271.64579885920296, 204.9069312795667, 190.02591372821317, 144.69847279058402, 135.90857438403856, 128.44137947668258, 126.93476821784363, 120.59850743607791, 119.06545880626318, 117.3075814870883, 112.47744452908154, 104.58193979410186, 99.98443252344163, 98.69437883033137, 94.92003341699271, 93.10342357533965, 89.38285972840906, 89.15444123261686, 88.52061105460866, 83.62458689768444, 80.29070241745804, 80.05778546509028, 77.97407451944008, 77.54263091665398, 73.1712983586626, 70.84563128896065, 237.41053208745578, 212.68415400771508, 432.841339536619, 3423.5317391874046, 104.71012632158555, 2392.5542294859815, 2453.386949651453, 956.2286234428425, 280.1253639968412, 470.6198971897368], \"Category\": [\"Default\", \"Default\", \"Default\", \"Default\", \"Default\", \"Default\", \"Default\", \"Default\", \"Default\", \"Default\", \"Default\", \"Default\", \"Default\", \"Default\", \"Default\", \"Default\", \"Default\", \"Default\", \"Default\", \"Default\", \"Default\", \"Default\", \"Default\", \"Default\", \"Default\", \"Default\", \"Default\", \"Default\", \"Default\", \"Default\", \"Topic1\", \"Topic1\", \"Topic1\", \"Topic1\", \"Topic1\", \"Topic1\", \"Topic1\", \"Topic1\", \"Topic1\", \"Topic1\", \"Topic1\", \"Topic1\", \"Topic1\", \"Topic1\", \"Topic1\", \"Topic1\", \"Topic1\", \"Topic1\", \"Topic1\", \"Topic1\", \"Topic1\", \"Topic1\", \"Topic1\", \"Topic1\", \"Topic1\", \"Topic1\", \"Topic1\", \"Topic1\", \"Topic1\", \"Topic1\", \"Topic1\", \"Topic1\", \"Topic1\", \"Topic1\", \"Topic1\", \"Topic1\", \"Topic1\", \"Topic1\", \"Topic1\", \"Topic1\", \"Topic1\", \"Topic1\", \"Topic1\", \"Topic1\", \"Topic1\", \"Topic1\", \"Topic1\", \"Topic1\", \"Topic1\", \"Topic1\", \"Topic1\", \"Topic1\", \"Topic1\", \"Topic1\", \"Topic1\", \"Topic1\", \"Topic1\", \"Topic1\", \"Topic1\", \"Topic1\", \"Topic1\", \"Topic1\", \"Topic1\", \"Topic1\", \"Topic1\", \"Topic1\", \"Topic1\", \"Topic1\", \"Topic1\", \"Topic1\", \"Topic1\", \"Topic2\", \"Topic2\", \"Topic2\", \"Topic2\", \"Topic2\", \"Topic2\", \"Topic2\", \"Topic2\", \"Topic2\", \"Topic2\", \"Topic2\", \"Topic2\", \"Topic2\", \"Topic2\", \"Topic2\", \"Topic2\", \"Topic2\", \"Topic2\", \"Topic2\", \"Topic2\", \"Topic2\", \"Topic2\", \"Topic2\", \"Topic2\", \"Topic2\", \"Topic2\", \"Topic2\", \"Topic2\", \"Topic2\", \"Topic2\", \"Topic2\", \"Topic2\", \"Topic2\", \"Topic2\", \"Topic2\", \"Topic2\", \"Topic2\", \"Topic2\", \"Topic2\", \"Topic2\", \"Topic2\", \"Topic2\", \"Topic2\", \"Topic2\", \"Topic2\", \"Topic2\", \"Topic2\", \"Topic2\", \"Topic2\", \"Topic2\", \"Topic2\", \"Topic2\", \"Topic2\", \"Topic2\", \"Topic2\", \"Topic2\", \"Topic2\", \"Topic2\", \"Topic2\", \"Topic2\", \"Topic2\", \"Topic2\", \"Topic2\", \"Topic2\", \"Topic2\", \"Topic2\", \"Topic2\", \"Topic2\", \"Topic2\", \"Topic2\", \"Topic2\", \"Topic2\", \"Topic2\", \"Topic3\", \"Topic3\", \"Topic3\", \"Topic3\", \"Topic3\", \"Topic3\", \"Topic3\", \"Topic3\", \"Topic3\", \"Topic3\", \"Topic3\", \"Topic3\", \"Topic3\", \"Topic3\", \"Topic3\", \"Topic3\", \"Topic3\", \"Topic3\", \"Topic3\", \"Topic3\", \"Topic3\", \"Topic3\", \"Topic3\", \"Topic3\", \"Topic3\", \"Topic3\", \"Topic3\", \"Topic3\", \"Topic3\", \"Topic3\", \"Topic3\", \"Topic3\", \"Topic3\", \"Topic3\", \"Topic3\", \"Topic3\", \"Topic3\", \"Topic3\", \"Topic3\", \"Topic3\", \"Topic3\", \"Topic3\", \"Topic3\", \"Topic3\", \"Topic3\", \"Topic3\", \"Topic3\", \"Topic3\", \"Topic3\", \"Topic3\", \"Topic3\", \"Topic3\", \"Topic3\", \"Topic3\", \"Topic3\", \"Topic3\", \"Topic3\", \"Topic3\", \"Topic3\", \"Topic3\", \"Topic3\", \"Topic3\", \"Topic3\", \"Topic3\", \"Topic3\", \"Topic3\", \"Topic3\", \"Topic3\", \"Topic3\", \"Topic3\", \"Topic3\", \"Topic3\", \"Topic3\", \"Topic3\", \"Topic4\", \"Topic4\", \"Topic4\", \"Topic4\", \"Topic4\", \"Topic4\", \"Topic4\", \"Topic4\", \"Topic4\", \"Topic4\", \"Topic4\", \"Topic4\", \"Topic4\", \"Topic4\", \"Topic4\", \"Topic4\", \"Topic4\", \"Topic4\", \"Topic4\", \"Topic4\", \"Topic4\", \"Topic4\", \"Topic4\", \"Topic4\", \"Topic4\", \"Topic4\", \"Topic4\", \"Topic4\", \"Topic4\", \"Topic4\", \"Topic4\", \"Topic4\", \"Topic4\", \"Topic4\", \"Topic4\", \"Topic4\", \"Topic4\", \"Topic4\", \"Topic4\", \"Topic4\", \"Topic4\", \"Topic4\", \"Topic4\", \"Topic4\", \"Topic4\", \"Topic4\", \"Topic4\", \"Topic4\", \"Topic4\", \"Topic4\", \"Topic4\", \"Topic4\", \"Topic4\", \"Topic4\", \"Topic4\", \"Topic4\", \"Topic4\", \"Topic4\", \"Topic4\", \"Topic4\", \"Topic4\", \"Topic4\", \"Topic4\", \"Topic4\", \"Topic4\", \"Topic4\", \"Topic5\", \"Topic5\", \"Topic5\", \"Topic5\", \"Topic5\", \"Topic5\", \"Topic5\", \"Topic5\", \"Topic5\", \"Topic5\", \"Topic5\", \"Topic5\", \"Topic5\", \"Topic5\", \"Topic5\", \"Topic5\", \"Topic5\", \"Topic5\", \"Topic5\", \"Topic5\", \"Topic5\", \"Topic5\", \"Topic5\", \"Topic5\", \"Topic5\", \"Topic5\", \"Topic5\", \"Topic5\", \"Topic5\", \"Topic5\", \"Topic5\", \"Topic5\", \"Topic5\", \"Topic5\", \"Topic5\", \"Topic5\", \"Topic5\", \"Topic5\", \"Topic5\", \"Topic5\", \"Topic5\", \"Topic5\", \"Topic5\", \"Topic5\", \"Topic5\", \"Topic5\", \"Topic5\", \"Topic5\", \"Topic5\", \"Topic5\", \"Topic5\", \"Topic5\", \"Topic5\", \"Topic5\", \"Topic5\", \"Topic5\", \"Topic5\", \"Topic5\", \"Topic5\", \"Topic5\", \"Topic5\", \"Topic5\", \"Topic5\", \"Topic5\", \"Topic5\", \"Topic6\", \"Topic6\", \"Topic6\", \"Topic6\", \"Topic6\", \"Topic6\", \"Topic6\", \"Topic6\", \"Topic6\", \"Topic6\", \"Topic6\", \"Topic6\", \"Topic6\", \"Topic6\", \"Topic6\", \"Topic6\", \"Topic6\", \"Topic6\", \"Topic6\", \"Topic6\", \"Topic6\", \"Topic6\", \"Topic6\", \"Topic6\", \"Topic6\", \"Topic6\", \"Topic6\", \"Topic6\", \"Topic6\", \"Topic6\", \"Topic6\", \"Topic6\", \"Topic6\", \"Topic6\", \"Topic6\", \"Topic6\", \"Topic6\", \"Topic6\", \"Topic6\", \"Topic6\", \"Topic6\", \"Topic6\", \"Topic6\", \"Topic6\", \"Topic6\", \"Topic6\", \"Topic6\", \"Topic6\", \"Topic6\", \"Topic6\", \"Topic6\", \"Topic6\", \"Topic6\", \"Topic6\", \"Topic6\", \"Topic6\", \"Topic7\", \"Topic7\", \"Topic7\", \"Topic7\", \"Topic7\", \"Topic7\", \"Topic7\", \"Topic7\", \"Topic7\", \"Topic7\", \"Topic7\", \"Topic7\", \"Topic7\", \"Topic7\", \"Topic7\", \"Topic7\", \"Topic7\", \"Topic7\", \"Topic7\", \"Topic7\", \"Topic7\", \"Topic7\", \"Topic7\", \"Topic7\", \"Topic7\", \"Topic7\", \"Topic7\", \"Topic7\", \"Topic7\", \"Topic7\", \"Topic7\", \"Topic7\", \"Topic7\", \"Topic7\", \"Topic7\", \"Topic7\", \"Topic7\", \"Topic7\", \"Topic7\", \"Topic7\", \"Topic7\", \"Topic7\", \"Topic7\", \"Topic7\", \"Topic7\", \"Topic7\", \"Topic7\", \"Topic7\", \"Topic7\", \"Topic7\", \"Topic7\", \"Topic7\", \"Topic7\", \"Topic7\", \"Topic7\", \"Topic8\", \"Topic8\", \"Topic8\", \"Topic8\", \"Topic8\", \"Topic8\", \"Topic8\", \"Topic8\", \"Topic8\", \"Topic8\", \"Topic8\", \"Topic8\", \"Topic8\", \"Topic8\", \"Topic8\", \"Topic8\", \"Topic8\", \"Topic8\", \"Topic8\", \"Topic8\", \"Topic8\", \"Topic8\", \"Topic8\", \"Topic8\", \"Topic8\", \"Topic8\", \"Topic8\", \"Topic8\", \"Topic8\", \"Topic8\", \"Topic8\", \"Topic8\", \"Topic8\", \"Topic8\", \"Topic8\", \"Topic8\", \"Topic8\", \"Topic8\", \"Topic8\", \"Topic8\", \"Topic8\", \"Topic8\", \"Topic8\", \"Topic8\", \"Topic8\", \"Topic8\", \"Topic8\", \"Topic8\", \"Topic8\", \"Topic8\", \"Topic8\", \"Topic9\", \"Topic9\", \"Topic9\", \"Topic9\", \"Topic9\", \"Topic9\", \"Topic9\", \"Topic9\", \"Topic9\", \"Topic9\", \"Topic9\", \"Topic9\", \"Topic9\", \"Topic9\", \"Topic9\", \"Topic9\", \"Topic9\", \"Topic9\", \"Topic9\", \"Topic9\", \"Topic9\", \"Topic9\", \"Topic9\", \"Topic9\", \"Topic9\", \"Topic9\", \"Topic9\", \"Topic9\", \"Topic9\", \"Topic9\", \"Topic9\", \"Topic9\", \"Topic9\", \"Topic9\", \"Topic9\", \"Topic9\", \"Topic9\", \"Topic9\", \"Topic9\", \"Topic9\", \"Topic9\", \"Topic9\", \"Topic9\", \"Topic9\", \"Topic9\", \"Topic9\", \"Topic9\", \"Topic9\", \"Topic9\", \"Topic9\", \"Topic9\", \"Topic9\", \"Topic9\", \"Topic9\", \"Topic10\", \"Topic10\", \"Topic10\", \"Topic10\", \"Topic10\", \"Topic10\", \"Topic10\", \"Topic10\", \"Topic10\", \"Topic10\", \"Topic10\", \"Topic10\", \"Topic10\", \"Topic10\", \"Topic10\", \"Topic10\", \"Topic10\", \"Topic10\", \"Topic10\", \"Topic10\", \"Topic10\", \"Topic10\", \"Topic10\", \"Topic10\", \"Topic10\", \"Topic10\", \"Topic10\", \"Topic10\", \"Topic10\", \"Topic10\", \"Topic10\", \"Topic10\", \"Topic10\", \"Topic10\", \"Topic10\", \"Topic10\", \"Topic10\", \"Topic10\", \"Topic10\", \"Topic10\"], \"logprob\": [30.0, 29.0, 28.0, 27.0, 26.0, 25.0, 24.0, 23.0, 22.0, 21.0, 20.0, 19.0, 18.0, 17.0, 16.0, 15.0, 14.0, 13.0, 12.0, 11.0, 10.0, 9.0, 8.0, 7.0, 6.0, 5.0, 4.0, 3.0, 2.0, 1.0, -3.4888, -4.1896, -4.4031, -5.8591, -6.0016, -6.111, -6.2339, -6.2842, -6.4275, -6.7895, -6.7928, -6.7997, -6.8397, -6.9666, -7.1008, -7.1144, -7.1725, -7.2523, -7.3295, -7.517, -7.5454, -7.4165, -7.6042, -7.6177, -7.681, -7.695, -7.7193, -7.7216, -7.7256, -7.7349, -5.2118, -4.081, -5.2608, -5.6547, -5.5487, -5.4628, -4.3668, -3.9033, -3.0238, -4.2227, -4.4882, -4.0313, -5.648, -4.3656, -4.7383, -4.5878, -5.7853, -6.0272, -4.6772, -5.3251, -5.1625, -5.6611, -5.2523, -3.7015, -5.2431, -5.2683, -3.7084, -4.257, -4.8972, -4.0671, -4.2881, -4.4591, -4.3375, -4.8059, -4.8557, -4.8875, -4.5947, -5.0738, -5.0018, -5.0991, -5.0914, -6.0298, -6.0416, -6.1063, -6.2899, -6.4124, -6.4179, -6.561, -6.7445, -6.8072, -6.8541, -6.8857, -6.9114, -6.9248, -6.943, -6.9704, -6.9752, -7.0381, -7.0714, -7.075, -7.08, -7.0962, -7.0968, -7.1002, -7.1181, -7.1231, -7.1347, -7.1616, -7.1664, -7.1983, -7.2055, -5.6933, -4.6721, -4.7966, -4.8193, -4.8082, -3.5235, -3.4534, -5.1332, -4.3427, -5.9138, -4.1293, -6.4218, -5.7081, -5.5924, -4.6774, -5.2061, -4.3765, -5.2792, -3.9724, -4.2719, -4.3843, -5.1217, -4.8642, -4.0238, -4.4849, -4.8885, -5.3085, -5.0834, -3.7171, -4.92, -4.1818, -4.0397, -4.4082, -4.4584, -5.2278, -4.7205, -5.0603, -4.5385, -4.9662, -4.9543, -4.8379, -5.0717, -5.0694, -3.65, -5.0634, -5.3748, -5.7411, -5.9559, -5.9593, -6.1813, -6.3457, -6.2158, -6.4229, -6.6118, -6.6206, -6.6934, -6.7159, -6.7477, -6.7821, -6.7838, -6.8544, -6.8689, -6.898, -6.9228, -6.9818, -6.9922, -6.9987, -7.0452, -7.0527, -7.062, -7.1367, -7.1459, -7.188, -5.253, -5.6226, -4.5764, -5.4071, -5.9089, -5.7287, -4.6455, -3.8983, -5.5099, -5.3624, -3.367, -3.5146, -5.1058, -4.0691, -4.1838, -4.659, -5.6638, -4.8597, -3.381, -4.5542, -5.1244, -4.84, -4.9005, -5.4587, -3.7441, -4.4273, -4.2104, -4.511, -4.4104, -5.0872, -4.5626, -4.0461, -4.9239, -4.6212, -4.03, -4.3103, -4.8224, -4.7197, -4.6294, -4.662, -4.5832, -4.5893, -4.6819, -4.7681, -3.9984, -4.2696, -4.8919, -4.9485, -5.5746, -5.6988, -5.7062, -5.7258, -5.7793, -5.7857, -5.8905, -5.9165, -5.9801, -6.2007, -6.2036, -6.2494, -6.2501, -6.3301, -6.3684, -6.4557, -6.4772, -6.5054, -6.5531, -6.5575, -6.5756, -6.6196, -6.634, -6.7117, -6.7827, -6.8266, -6.2385, -5.0551, -3.6644, -5.6813, -3.9408, -5.8993, -5.2167, -5.1755, -4.7442, -5.0287, -4.0449, -5.0843, -5.9214, -3.4091, -5.4822, -4.8537, -4.4732, -5.323, -3.9102, -3.98, -3.7961, -4.9792, -4.4983, -4.7895, -4.5133, -4.5885, -4.6484, -4.0707, -4.5796, -4.3459, -5.0006, -4.833, -4.4675, -4.7838, -4.7397, -4.8805, -3.176, -3.3849, -4.6274, -5.1088, -5.3546, -5.4861, -5.725, -5.9955, -6.016, -6.0287, -6.1032, -6.1395, -6.2267, -6.2303, -6.2408, -6.2767, -6.2782, -6.3431, -6.3785, -6.3918, -6.3962, -6.4289, -6.45, -6.4674, -6.5399, -6.5565, -6.6139, -6.6257, -6.6277, -6.6428, -5.0974, -4.5547, -4.4756, -4.9587, -5.8483, -5.058, -2.7201, -3.8988, -4.6052, -5.6589, -5.1233, -5.2105, -5.2557, -5.6595, -4.4654, -3.633, -5.762, -4.546, -5.5365, -4.8434, -4.7139, -4.639, -4.9113, -5.0118, -4.7502, -4.4231, -4.5598, -4.9167, -4.9622, -4.7638, -4.8665, -5.0393, -4.7635, -4.8059, -5.0598, -3.9, -4.0165, -4.1393, -4.1858, -4.1892, -4.2089, -4.5376, -4.7661, -5.3556, -5.4919, -5.5316, -5.5608, -5.7433, -5.8126, -5.8161, -5.8533, -5.8984, -5.9887, -6.0249, -6.0722, -6.0976, -6.1435, -6.1434, -6.1941, -6.2171, -6.2854, -6.2914, -6.3372, -6.3448, -6.3908, -4.9141, -4.8213, -4.0607, -5.4939, -5.2995, -4.091, -2.9991, -3.201, -3.8855, -4.9355, -4.422, -5.2012, -5.0752, -4.6212, -4.8216, -5.0049, -4.3204, -4.0059, -4.6595, -4.581, -4.8552, -4.9734, -4.7051, -4.9612, -4.8055, -4.9843, -3.8459, -3.9726, -4.0225, -4.0268, -4.7077, -4.9141, -4.9618, -5.3501, -5.4112, -5.4111, -5.4232, -5.4908, -5.4981, -5.5179, -5.5822, -5.5941, -5.6107, -5.6676, -5.6681, -5.7106, -5.7201, -5.7772, -5.8376, -5.8388, -5.882, -5.9224, -6.0101, -6.0138, -6.0404, -6.0425, -4.2618, -4.1429, -5.0562, -4.1379, -4.5281, -4.3598, -4.8645, -3.2945, -4.499, -4.3405, -3.1239, -4.2632, -4.4103, -3.7047, -3.8957, -4.3365, -4.1829, -4.7735, -5.3012, -5.0161, -5.0491, -5.1422, -5.2767, -5.1156, -5.1841, -2.7999, -3.1687, -3.221, -3.3142, -4.249, -4.687, -4.7159, -4.9256, -5.0702, -5.1002, -5.2733, -5.3465, -5.3643, -5.385, -5.4042, -5.4132, -5.5342, -5.5792, -5.6151, -5.63, -5.6349, -5.6677, -5.6716, -5.6872, -5.6902, -5.6936, -5.707, -5.723, -5.725, -5.7856, -4.3379, -5.1238, -4.9719, -4.6329, -4.0188, -4.0586, -4.5063, -4.4035, -5.3397, -4.585, -5.3722, -4.3431, -5.0477, -4.8552, -4.7504, -5.203, -5.1563, -5.1456, -5.2574, -5.3051, -5.3269, -3.7046, -3.9864, -4.1335, -4.2168, -4.2849, -4.6736, -5.078, -5.2877, -5.3493, -5.3883, -3.1023, -5.5062, -5.539, -5.5637, -5.6842, -5.7849, -5.9339, -5.9427, -6.0106, -6.1616, -6.1639, -6.1738, -6.1988, -6.2029, -6.2092, -6.2154, -6.317, -6.3431, -6.3526, -6.3595, -3.2226, -1.5068, -4.5047, -4.9964, -5.2528, -4.2391, -3.5727, -5.4628, -3.6518, -4.0087, -4.436, -4.1309, -4.2177, -4.3187, -4.3424, -4.1487, -4.6321, -5.052, -4.9797, -5.0314, -5.0393, -5.2242, -5.0759, -5.2089, -1.5755, -1.9008, -3.6509, -4.1563, -4.241, -4.5241, -4.5998, -4.8738, -4.9369, -4.9938, -5.0057, -5.0573, -5.0702, -5.0852, -5.1276, -5.201, -5.2463, -5.2594, -5.2988, -5.3183, -5.3595, -5.3621, -5.3693, -5.4268, -5.4679, -5.4709, -5.4975, -5.5032, -5.5619, -5.5946, -4.561, -4.8763, -4.4988, -3.481, -5.3447, -4.0133, -4.0156, -4.4753, -5.2089, -5.3023], \"loglift\": [30.0, 29.0, 28.0, 27.0, 26.0, 25.0, 24.0, 23.0, 22.0, 21.0, 20.0, 19.0, 18.0, 17.0, 16.0, 15.0, 14.0, 13.0, 12.0, 11.0, 10.0, 9.0, 8.0, 7.0, 6.0, 5.0, 4.0, 3.0, 2.0, 1.0, 1.5474, 1.5472, 1.5471, 1.5456, 1.5452, 1.545, 1.5446, 1.5445, 1.544, 1.5425, 1.5424, 1.5424, 1.5422, 1.5415, 1.5406, 1.5405, 1.5401, 1.5394, 1.5388, 1.537, 1.5367, 1.5365, 1.536, 1.5359, 1.5351, 1.535, 1.5346, 1.5346, 1.5346, 1.5344, 1.5121, 1.4864, 1.4923, 1.4935, 1.4907, 1.4814, 1.4459, 1.4113, 1.3217, 1.3825, 1.3513, 1.3025, 1.4047, 1.2629, 1.2769, 1.2566, 1.3929, 1.4052, 1.1667, 1.2649, 1.2314, 1.3144, 1.1773, 0.6244, 1.157, 1.1574, 0.4269, 0.6811, 0.9389, 0.0467, 0.1746, 0.2735, 0.1181, 0.4582, 0.4675, 0.3425, -0.5787, 0.4387, -0.4005, -0.2965, -0.697, 1.7036, 1.7036, 1.7034, 1.7028, 1.7023, 1.7023, 1.7016, 1.7007, 1.7003, 1.7, 1.6998, 1.6997, 1.6996, 1.6994, 1.6992, 1.6992, 1.6987, 1.6985, 1.6985, 1.6984, 1.6983, 1.6983, 1.6983, 1.6981, 1.6981, 1.698, 1.6977, 1.6977, 1.6974, 1.6973, 1.6444, 1.5552, 1.5489, 1.4603, 1.3774, 1.163, 1.1479, 1.3875, 1.2239, 1.4941, 1.1668, 1.5803, 1.4419, 1.4191, 1.2068, 1.3182, 1.1361, 1.3328, 1.0146, 1.0703, 1.0507, 1.2377, 1.1638, 0.9143, 1.0321, 1.1072, 1.2499, 1.1444, 0.2989, 0.9123, 0.2739, 0.0956, 0.3944, 0.2248, 1.0233, 0.3037, 0.784, -0.4247, 0.551, 0.3735, -0.4435, 0.435, -0.7435, 1.9603, 1.9593, 1.9588, 1.9579, 1.9573, 1.9573, 1.9564, 1.9557, 1.9556, 1.9553, 1.9542, 1.9541, 1.9536, 1.9535, 1.9532, 1.953, 1.953, 1.9524, 1.9523, 1.952, 1.9518, 1.9513, 1.9512, 1.9511, 1.9507, 1.9506, 1.9505, 1.9497, 1.9496, 1.9492, 1.8929, 1.882, 1.7391, 1.8081, 1.8216, 1.7986, 1.6455, 1.5209, 1.7196, 1.6878, 1.3162, 1.2848, 1.5877, 1.318, 1.3334, 1.4442, 1.6823, 1.4507, 1.0134, 1.2511, 1.4377, 1.2861, 1.2756, 1.5624, 0.5818, 0.9586, 0.8138, 0.9674, 0.8631, 1.3394, 0.9172, 0.4096, 1.1935, 0.8957, 0.1053, 0.3762, 1.0057, 0.8192, 0.6006, 0.6657, 0.4039, -0.2437, 0.1207, -0.1668, 2.1974, 2.1972, 2.1965, 2.1964, 2.1951, 2.1947, 2.1947, 2.1946, 2.1944, 2.1944, 2.194, 2.1939, 2.1936, 2.1926, 2.1925, 2.1923, 2.1923, 2.1918, 2.1916, 2.191, 2.1908, 2.1906, 2.1903, 2.1902, 2.1901, 2.1898, 2.1896, 2.189, 2.1883, 2.1879, 2.1728, 2.1111, 1.9998, 2.116, 1.937, 2.122, 2.0178, 1.9935, 1.9213, 1.9519, 1.7109, 1.8783, 2.0434, 1.0537, 1.8533, 1.5501, 1.2582, 1.7106, 0.8224, 0.8193, 0.5983, 1.4445, 0.9802, 1.2225, 0.7507, 0.8307, 0.8313, 0.0646, 0.6939, 0.3406, 1.2222, 0.898, 0.2157, 0.5394, -0.6259, -0.5546, 2.3109, 2.3108, 2.3099, 2.3092, 2.3086, 2.3082, 2.3074, 2.3062, 2.3061, 2.3061, 2.3057, 2.3055, 2.3049, 2.3049, 2.3049, 2.3046, 2.3046, 2.3042, 2.3039, 2.3038, 2.3038, 2.3035, 2.3034, 2.3032, 2.3027, 2.3025, 2.302, 2.3019, 2.3019, 2.3017, 2.2671, 2.1459, 2.0868, 2.1108, 2.1731, 1.9986, 1.3937, 1.6389, 1.8264, 2.0721, 1.8826, 1.8662, 1.8041, 1.9765, 1.2801, 0.6928, 2.0073, 1.1744, 1.8409, 1.1741, 0.9146, 0.6888, 0.9332, 1.0365, 0.5233, -0.0775, -0.0971, 0.6228, 0.6955, 0.0356, 0.1206, 0.8385, -0.7475, -0.6706, 0.6716, 2.6889, 2.6888, 2.6887, 2.6887, 2.6887, 2.6886, 2.6882, 2.6877, 2.686, 2.6855, 2.6853, 2.6852, 2.6842, 2.6838, 2.6838, 2.6836, 2.6833, 2.6827, 2.6824, 2.682, 2.6818, 2.6815, 2.6815, 2.681, 2.6808, 2.6802, 2.6801, 2.6797, 2.6796, 2.6791, 2.5651, 2.4344, 2.2341, 2.5027, 2.4498, 1.9053, 1.4566, 1.2617, 1.5017, 2.0495, 1.7542, 2.1591, 2.0606, 1.6067, 1.7497, 1.9008, 1.1146, 0.7266, 1.3645, 1.2243, 1.6174, 1.2987, 0.5249, 1.2333, 0.2187, 0.8555, 2.7619, 2.7618, 2.7617, 2.7617, 2.7606, 2.7602, 2.76, 2.7587, 2.7585, 2.7585, 2.7584, 2.7581, 2.7581, 2.758, 2.7576, 2.7576, 2.7575, 2.7572, 2.7572, 2.7569, 2.7569, 2.7565, 2.7562, 2.7562, 2.7559, 2.7556, 2.7549, 2.7549, 2.7547, 2.7547, 2.5455, 2.5171, 2.6292, 2.3759, 2.149, 2.0536, 2.2884, 1.5081, 2.075, 1.9858, 0.9899, 1.5047, 1.4806, 0.4306, 0.4987, 0.9867, 0.5496, 1.4411, 2.3227, 1.3876, 1.2381, 1.4624, 2.0464, 0.3642, 0.3226, 2.9808, 2.9806, 2.9806, 2.9805, 2.9795, 2.9786, 2.9785, 2.9779, 2.9773, 2.9772, 2.9765, 2.9761, 2.976, 2.9759, 2.9758, 2.9758, 2.9751, 2.9748, 2.9746, 2.9745, 2.9745, 2.9742, 2.9742, 2.9741, 2.9741, 2.974, 2.9739, 2.9738, 2.9738, 2.9734, 2.6857, 2.7723, 2.6657, 2.47, 2.1236, 1.743, 1.9914, 1.4326, 2.5123, 1.2545, 2.5133, 0.4595, 1.7294, 0.1318, -0.6151, 1.1685, 0.1669, -1.0318, 0.8397, 1.1266, 1.0796, 3.0375, 3.0372, 3.0369, 3.0368, 3.0367, 3.0358, 3.0344, 3.0335, 3.0332, 3.033, 3.0329, 3.0323, 3.0321, 3.0319, 3.031, 3.0303, 3.0289, 3.0289, 3.0282, 3.0265, 3.0265, 3.0264, 3.026, 3.026, 3.0259, 3.0258, 3.0245, 3.0241, 3.024, 3.0239, 3.0229, 2.5092, 2.8255, 2.8062, 2.736, 2.271, 1.6914, 2.6436, 1.3724, 1.4698, 1.6901, 1.1426, 1.0784, 1.188, 0.9853, 0.5838, 1.0989, 1.5078, 1.2126, 1.3751, 1.3844, 1.7383, -0.6815, 1.0057, 3.6832, 3.6831, 3.6815, 3.6803, 3.6801, 3.679, 3.6786, 3.6771, 3.6767, 3.6763, 3.6762, 3.6758, 3.6757, 3.6756, 3.6753, 3.6747, 3.6743, 3.6741, 3.6738, 3.6736, 3.6732, 3.6731, 3.6731, 3.6725, 3.672, 3.672, 3.6717, 3.6716, 3.6709, 3.6705, 3.4948, 3.2895, 2.9564, 1.9062, 3.5297, 1.7322, 1.7047, 2.1873, 2.6815, 2.0693]}, \"token.table\": {\"Topic\": [7, 8, 5, 2, 4, 9, 5, 8, 10, 1, 3, 4, 8, 4, 4, 5, 4, 6, 2, 6, 8, 1, 6, 1, 9, 10, 9, 10, 1, 1, 1, 8, 9, 4, 9, 9, 1, 2, 3, 5, 6, 7, 8, 10, 3, 1, 7, 3, 1, 2, 3, 5, 6, 7, 8, 9, 7, 2, 10, 1, 2, 1, 2, 3, 1, 2, 3, 4, 5, 6, 1, 3, 4, 6, 9, 10, 6, 6, 1, 3, 1, 2, 3, 5, 6, 3, 4, 5, 3, 1, 3, 4, 5, 7, 9, 1, 6, 2, 5, 1, 1, 7, 10, 10, 1, 5, 1, 2, 3, 4, 5, 6, 9, 10, 1, 5, 6, 1, 3, 4, 9, 5, 6, 1, 4, 5, 6, 7, 8, 9, 10, 3, 6, 1, 2, 5, 8, 4, 9, 4, 10, 2, 8, 9, 1, 4, 4, 1, 2, 3, 4, 8, 3, 4, 1, 3, 4, 5, 7, 9, 7, 1, 2, 4, 5, 7, 8, 3, 8, 3, 4, 6, 7, 10, 2, 3, 8, 10, 7, 5, 6, 2, 3, 5, 6, 1, 2, 3, 4, 6, 10, 2, 4, 9, 3, 4, 7, 8, 7, 1, 7, 4, 5, 2, 3, 6, 9, 8, 1, 6, 5, 10, 10, 1, 3, 4, 5, 9, 5, 1, 2, 5, 9, 2, 4, 1, 2, 3, 4, 5, 6, 8, 4, 9, 1, 6, 1, 3, 4, 6, 8, 9, 10, 1, 2, 3, 4, 6, 8, 5, 2, 6, 7, 9, 6, 10, 3, 7, 7, 5, 7, 7, 1, 8, 8, 2, 1, 2, 3, 4, 5, 6, 8, 10, 2, 3, 4, 5, 9, 3, 4, 4, 9, 10, 2, 5, 1, 4, 5, 7, 8, 1, 2, 3, 4, 5, 6, 9, 10, 3, 2, 5, 1, 2, 3, 4, 5, 6, 7, 9, 2, 4, 10, 1, 2, 3, 6, 10, 6, 8, 1, 2, 5, 8, 2, 1, 1, 2, 3, 4, 5, 7, 8, 2, 1, 7, 1, 2, 3, 4, 5, 6, 7, 1, 3, 4, 5, 7, 8, 1, 2, 3, 4, 5, 7, 1, 3, 4, 3, 10, 1, 2, 3, 4, 6, 4, 8, 2, 4, 5, 8, 6, 7, 9, 4, 5, 6, 9, 5, 2, 5, 6, 8, 2, 5, 8, 7, 4, 2, 5, 3, 6, 10, 2, 5, 3, 6, 8, 7, 5, 10, 1, 2, 3, 4, 5, 6, 10, 4, 1, 2, 6, 5, 6, 1, 2, 6, 8, 4, 7, 2, 1, 2, 3, 4, 5, 6, 7, 8, 9, 2, 3, 4, 1, 2, 3, 4, 5, 6, 1, 8, 8, 6, 8, 3, 3, 9, 9, 9, 10, 6, 5, 2, 5, 1, 3, 9, 1, 2, 3, 4, 6, 7, 8, 7, 7, 8, 9, 8, 1, 3, 5, 1, 5, 9, 3, 4, 5, 7, 6, 9, 7, 1, 2, 4, 8, 4, 5, 5, 4, 5, 6, 7, 1, 5, 7, 9, 2, 3, 6, 7, 1, 3, 10, 2, 10, 3, 6, 9, 1, 5, 4, 10, 1, 1, 2, 3, 6, 10, 9, 6, 4, 5, 3, 4, 1, 2, 3, 4, 5, 6, 2, 3, 4, 5, 6, 3, 1, 2, 3, 4, 5, 6, 7, 8, 9, 1, 2, 3, 4, 5, 6, 1, 1, 3, 4, 5, 6, 10, 1, 3, 5, 6, 1, 2, 3, 4, 5, 8, 1, 2, 8, 7, 10, 1, 2, 3, 4, 5, 6, 7, 1, 2, 3, 4, 5, 6, 7, 8, 9, 1, 2, 4, 8, 1, 2, 3, 5, 6, 8, 9, 2, 5, 6, 1, 2, 4, 6, 10, 1, 4, 5, 6, 7, 4, 1, 2, 3, 4, 5, 8, 9, 8, 2, 3, 4, 5, 6, 7, 1, 1, 5, 4, 6, 7, 1, 2, 3, 4, 5, 8, 9, 1, 2, 5, 6, 9, 7, 1, 3, 3, 9, 1, 2, 3, 5, 6, 9, 10, 2, 1, 5, 8, 1, 2, 3, 4, 5, 7, 8, 1, 5, 5, 3, 4, 6, 2, 6, 1, 2, 4, 5, 6, 2, 8, 9, 1, 2, 3, 4, 5, 6, 1, 6, 1, 6, 10, 6, 4, 2, 1, 2, 3, 4, 5, 6, 7, 2, 4, 1, 2, 4, 8, 9, 4, 1, 2, 3, 4, 7, 8, 1, 2, 8, 8, 1, 7, 1, 2, 3, 5, 5, 4, 4, 2, 4, 5, 2, 6, 7, 8, 9, 8, 5, 1, 2, 1, 3, 4, 5, 7, 9, 3, 1, 5, 1, 2, 3, 8, 9, 1, 2, 3, 5, 6, 8, 10, 2, 3, 4, 7, 8, 9, 1, 2, 3, 2, 9, 4, 8, 9, 2, 5, 2, 8, 1, 2, 1, 2, 3, 6, 8, 3, 4, 5, 9, 1, 3, 4, 8, 9, 3, 1, 2, 3, 4, 5, 7, 8, 8, 1, 1, 8, 7, 10, 1, 2, 3, 4, 5, 6, 7, 8, 7, 8, 1, 1, 3, 7, 1, 3, 8, 1, 5, 1, 5, 2, 6, 1, 1, 3, 4, 7, 8, 1, 2, 7, 8, 6, 1, 2, 3, 4, 5, 6, 7, 4, 4, 1, 10, 4, 1, 3, 1, 2, 3, 4, 5, 6, 7, 8, 5, 1, 5, 2, 4, 2, 6, 4, 3, 6, 9, 2, 9, 5, 3, 6, 9, 3, 1, 5, 6, 3, 8, 8, 5, 8, 10, 2, 3, 4, 5, 8, 4, 5, 1, 2, 3, 4, 5, 6, 7, 9, 5, 2, 3, 6, 8, 1, 2, 3, 4, 5, 6, 8, 6, 3, 4, 4, 5, 2, 1, 2, 3, 4, 5, 6, 1, 4, 7, 8, 3, 6, 5, 5, 7, 7, 2, 7, 1, 2, 3, 4, 6, 7, 10, 1, 8, 6, 2, 8, 2, 5, 6, 1, 2, 8, 7, 4, 10, 3, 1, 3, 5, 9, 1, 2, 8, 1, 6, 10, 2, 5, 1, 3, 4, 2, 5, 1, 4, 5, 1, 4, 1, 3, 4, 1, 4, 7, 3, 4, 5, 6, 9, 6, 1, 8, 1, 2, 3, 1, 2, 3, 4, 5, 7, 9, 2, 10, 9, 4, 5, 1, 3, 4, 7, 8, 9, 7, 1, 1, 2, 3, 5, 7, 3, 4, 3, 1, 2, 4, 5, 6, 7, 8, 1, 3, 4, 5, 6, 7, 9, 1, 3, 4, 5, 6, 7, 8, 9, 10, 3, 3, 7, 9, 7, 10, 2, 3, 4, 5, 1, 2, 3, 4, 5, 6, 7, 8, 9, 1, 4, 7, 8, 9, 3, 4, 6, 8, 10, 5, 4, 7, 1, 2, 3, 4, 5, 6, 3, 4, 6, 7, 9, 6, 4, 7, 8, 1, 2, 3, 4, 5, 6, 7, 8, 3, 1, 6, 4, 9, 10, 4, 6, 8, 4, 9], \"Freq\": [0.9988337169156076, 0.993290143002628, 0.9957999552858819, 0.9972482576550339, 0.9902269625377357, 0.9850208274479835, 0.9916876832642875, 0.9955578513961983, 0.9995716032654995, 0.3686173476146736, 0.08702601798660084, 0.11934996752448115, 0.4239410304775841, 0.9971823826659694, 0.28236636442400326, 0.7142208041313024, 0.9932907696070041, 0.9939210339970317, 0.9977566196795697, 0.9906941896620424, 0.9981497675504903, 0.3656133581935091, 0.6342124787673544, 0.989178070309851, 0.9848711593606498, 0.9903072788338483, 0.9985673240630915, 0.9929643527973857, 0.9848282646739428, 0.9959334824200416, 0.6109958083082724, 0.3715634886519102, 0.016848941012855116, 0.9952043646377923, 0.9940350895085593, 0.9932193463207644, 0.10907743870938892, 0.5190370257688338, 0.1057070684121887, 0.003983164896691168, 0.2068181773281953, 0.005515151395418541, 0.04749158146054855, 0.0021447810982183216, 0.9903671338764511, 0.1221536920773047, 0.8754347932206836, 0.9961576617440181, 0.1626177075902639, 0.2804661677467709, 0.2679571133167506, 0.0036210420718479812, 0.015142539573182467, 0.08723419536724682, 0.026334851431621682, 0.15702155166104428, 0.9901632735974611, 0.9924846355857292, 0.9933148119008945, 0.3737636486666391, 0.6255135442561522, 0.7630441965716316, 0.17351865876126774, 0.06349578680223046, 0.2687075334444028, 0.21462589063723816, 0.2054422154435687, 0.02687075334444028, 0.1846939122282414, 0.0993197465389438, 0.023462512771804302, 0.4015909162801853, 0.3770371238445761, 0.17569602587258107, 0.014186635629463066, 0.007638957646633959, 0.9905993026902418, 0.998715618738407, 0.19807866545578984, 0.8011838557987917, 0.11252098691555268, 0.7268492783819169, 0.049908502260930625, 0.08620559481433471, 0.02450053747354776, 0.2833913065143548, 0.6137619205257416, 0.10153592265487578, 0.9879744933735313, 0.28999180321985113, 0.3521557919763717, 0.25506461366077515, 0.0038451951808157058, 0.09100295261263837, 0.0076903903616314115, 0.9922372608981619, 0.9991236998152796, 0.9930239100074604, 0.9874750839597678, 0.9950524889758978, 0.9921047539934148, 0.3197229258439879, 0.6723585058189746, 0.9839246341282799, 0.9943180878145892, 0.9968456795119607, 0.1871937271188573, 0.12758455144413738, 0.07738735087595218, 0.0742500258404406, 0.0010457750118371915, 0.294908553338088, 0.013595075153883491, 0.223795852533159, 0.7921645921801588, 0.11010229891312677, 0.09723319904016389, 0.10716832322158136, 0.4652673544741825, 0.2653069465119636, 0.16075248483237206, 0.9946714276766104, 0.9986661750040388, 0.10822659509304555, 0.16552302778936379, 0.15066839709031832, 0.016976720798909106, 0.5411329754652278, 0.016976720798909106, 0.9940803401393474, 0.9875077129745576, 0.9983094390756806, 0.9900184739013443, 0.6766488591535136, 0.23600191916817667, 0.08664406123307186, 0.9977574843836016, 0.1896122067676176, 0.8073810094621138, 0.9935460060009041, 0.9880637482710608, 0.9965992319080321, 0.8114580768330897, 0.1867071681208879, 0.16303683554292847, 0.8355637821575084, 0.996412928495845, 0.09274722207878468, 0.2272451407008229, 0.5249897274677625, 0.13782063841613798, 0.017335929360520502, 0.9966422089291774, 0.9945417322481245, 0.0076803740247098, 0.37025803110788497, 0.29601441553569025, 0.07136347531292857, 0.0460822441482588, 0.20833014542025333, 0.9989038704248805, 0.3213188375611904, 0.20522188530368, 0.09967920143321599, 0.056289431397580796, 0.031662805161139194, 0.2861379429377024, 0.9956388974464798, 0.9955491778936495, 0.9868128281887507, 0.043402950681172066, 0.7874535337869789, 0.16741138119880655, 0.9955739355720997, 0.12777977114254788, 0.870119393970683, 0.994431189365879, 0.9870512201449981, 0.9930258429894278, 0.9889617781174354, 0.989293183739219, 0.5491682036872718, 0.11326929714370905, 0.18144560395532539, 0.1556781809084153, 0.23185557530002035, 0.23525521716658956, 0.31922637127084913, 0.13768549559605314, 0.07207240757126732, 0.003399641866569213, 0.9892685731651548, 0.9907304922322384, 0.9965072791054344, 0.22361408323468346, 0.5231116459786097, 0.25267584134460624, 0.9996293440050339, 0.993544400927828, 0.8671358069006239, 0.13097363750061508, 0.8156213813261497, 0.18394865195866356, 0.23788050125948973, 0.5377090497219716, 0.18336621972085668, 0.040472724172621516, 0.9989927305856313, 0.9976211621340281, 0.993921040071997, 0.9936301833915955, 0.9888533931864223, 0.9901541420139498, 0.3510841538947859, 0.08709760339589318, 0.08979134370710637, 0.007183307496568509, 0.4642212469657399, 0.9900117780297633, 0.11928711331860825, 0.24472763273133985, 0.04692898864554321, 0.5889476868881441, 0.9961061840674234, 0.9956562282568244, 0.2533386628135117, 0.02839339999510996, 0.057018582847322856, 0.3184696456594374, 0.08993174855594012, 0.23977936567298982, 0.012979839997764553, 0.004937142410487888, 0.9942170529119984, 0.987376781752493, 0.9939138090769696, 0.33650751028089526, 0.14359031137081948, 0.2352711756453535, 0.004132095291246604, 0.020660476456233017, 0.2600637473928331, 0.9951729083444102, 0.14287304743937543, 0.26802124312875314, 0.0010742334393938002, 0.09453254266665442, 0.4565492117423651, 0.036523936939389205, 0.997121393903163, 0.06202637644952032, 0.23924459487672123, 0.022152277303400112, 0.6734292300233634, 0.9947343373487093, 0.9957551975768965, 0.9925816215395975, 0.9918239926322333, 0.9966332032684186, 0.994394123242299, 0.9960336458245918, 0.9933278324149061, 0.99705545670726, 0.996120367634238, 0.9917133572903123, 0.9892641151838107, 0.04287441045703283, 0.5005930024595112, 0.21084812813801077, 0.013116828769959815, 0.11178670489025455, 0.06284331395756867, 0.05794897486430008, 0.9941187589149436, 0.012259477263083471, 0.7297994700141455, 0.059133949151343804, 0.07067228069306943, 0.12764279268033968, 0.9886551974688012, 0.9917020715920195, 0.7818992283202516, 0.21703452844918747, 0.9910514869976117, 0.39675094581515347, 0.6021279060018212, 0.18176231902723355, 0.14508382415626717, 0.06439113544014104, 0.4923069089347492, 0.11655610592329327, 0.39728626522928373, 0.08630945573793139, 0.2518538216615047, 0.0637719749070664, 0.19818834040056613, 0.0006063896187676679, 0.0019202337927642817, 0.98452880415092, 0.9936464553195989, 0.21002619951090803, 0.7883592126568867, 0.04926873984186264, 0.2636840936787956, 0.27386813487515826, 0.07541695372441544, 0.19735020372410902, 0.008807819413070416, 0.003302932279901406, 0.12826387020283794, 0.991407725779581, 0.992884560399363, 0.9925310614873515, 0.993362661114722, 0.5700670280236886, 0.0771824717276728, 0.33851961284067017, 0.014217823739308147, 0.995699681702246, 0.9915631942739057, 0.08121471273499092, 0.1673023082340813, 0.1494350714323833, 0.599364579984233, 0.992443934237206, 0.9832050376248495, 0.42392772143326984, 0.07250759203533692, 0.006767375256631446, 0.188519739291876, 0.02126889366369883, 0.2774623855218893, 0.009667678938044922, 0.9960882803565186, 0.866675683597979, 0.1313144975148453, 0.33145562257486805, 0.05861105521140959, 0.10105354346794758, 0.3765928719905513, 0.018189637824230564, 0.08353759593350332, 0.030316063040384273, 0.3299953204794232, 0.2731437950600407, 0.07694191410141993, 0.01196874219355421, 0.2842576270969125, 0.02308257423042598, 0.05760501793490727, 0.07529219245576613, 0.5087091020448853, 0.25200167000819995, 0.10271542634590507, 0.0037321560915573723, 0.19157996925812326, 0.6720266109132605, 0.136201384394447, 0.9343350494552655, 0.0644368999624321, 0.03167137147774148, 0.25970524611748014, 0.0827678507951644, 0.6144246066681847, 0.01097940877895038, 0.9278043362650691, 0.06917839349344813, 0.6332010597450054, 0.13191688744687613, 0.23368134347732342, 0.9907474106075823, 0.9916419334778304, 0.9983429602577052, 0.9863308422481205, 0.9989605320247043, 0.9983595471933466, 0.9987023965505236, 0.9923069607219803, 0.990283064821062, 0.2543269815792741, 0.6240628455558658, 0.11968328544907014, 0.9943238260631596, 0.22744466114878684, 0.6159267831109483, 0.15688701079241135, 0.9980097182422624, 0.9957364491462883, 0.20057389492467362, 0.7994572698648547, 0.5257728384394182, 0.3046561502735074, 0.16912359636467955, 0.15100157771975525, 0.8473469828878353, 0.9886725367630567, 0.7740447253620661, 0.2233185271215741, 0.9958685599910186, 0.9899685946138868, 0.9950371903533288, 0.14628717530686622, 0.10658065629500253, 0.20104037520743614, 0.036362812147706744, 0.35652274439073395, 0.010867047308510062, 0.14210754172667003, 0.9913545893928233, 0.5199622494492765, 0.24688383884430384, 0.2331316886699527, 0.8709139009597822, 0.126160424905389, 0.33612511398803957, 0.5052272331902697, 0.04019640538413669, 0.11781705026384892, 0.9887770085193212, 0.9918215338872873, 0.9928327548030504, 0.326022966711599, 0.19972352380410793, 0.1563707388378461, 0.11844749341456505, 0.050703546193681934, 0.023973505366699698, 0.09706346075297927, 0.027398291847656797, 0.0002505941327529585, 0.12843704928703797, 0.756121338544659, 0.11393609210946916, 0.01822370501480525, 0.3992648098698241, 0.07952162188278655, 0.024850506838370798, 0.21260989183939458, 0.26562430642791895, 0.9926802307350712, 0.9954749166101675, 0.9995838584358931, 0.9871260720261759, 0.9964658510991785, 0.994303639403216, 0.9908485045521026, 0.999023445174274, 0.9898022056280749, 0.16848452193041316, 0.8297862705072848, 0.9949363356035583, 0.9965209223553135, 0.2593744475313085, 0.7370030033511571, 0.9841880304835917, 0.9970374150523659, 0.9992182237481352, 0.15823774855621717, 0.26926464620574403, 0.15888893270665427, 0.021489076964424553, 0.026698550167921418, 0.2852186578914532, 0.08025844654137353, 0.9880390439544701, 0.9958865384761113, 0.9935307118906509, 0.9899934731890232, 0.9942701492296192, 0.797845786257885, 0.11029651050335103, 0.091741957334563, 0.9355117692054992, 0.062367451280366616, 0.9920752471858526, 0.17841434522433203, 0.8203977127054058, 0.00077068831630381, 0.9972050539727604, 0.9900695311890879, 0.9900694502622527, 0.9965440861936726, 0.04847713932719019, 0.8086868242308545, 0.11237882298575906, 0.028645582329703292, 0.9977041635307032, 0.9997417805543464, 0.9992571195056555, 0.19432913221223502, 0.14979537274693117, 0.1639652053040733, 0.48784709232446505, 0.9971156270453511, 0.19690132631675886, 0.6426640511727546, 0.1558802166674341, 0.2612947048675452, 0.21076810447879335, 0.5269202611969833, 0.9881451153076166, 0.9406167874731576, 0.059116488316461, 0.99300216009904, 0.9962445502334297, 0.9976226436708573, 0.36140235481634925, 0.5883294148173128, 0.05042823555576967, 0.7475297707643674, 0.2519452190353979, 0.9736290150653323, 0.0180301669456543, 0.9872031309383851, 0.06567603813524758, 0.17395274965552063, 0.4916827719855022, 0.23075364750222124, 0.03683183219746993, 0.982470271797284, 0.9909150423786172, 0.18065830791592677, 0.8184606819495465, 0.24124834278599133, 0.7583589210185727, 0.19387662669328773, 0.03734926258539693, 0.24990052057138312, 0.0037349262585396935, 0.510666281167609, 0.0044140037600923655, 0.04558937022865699, 0.6007502496260123, 0.09926717711078538, 0.11250280072555677, 0.14191529764727095, 0.9907763669361088, 0.14256309103219378, 0.5721159339461894, 0.11913535618469974, 0.06975075602322085, 0.05963423415725753, 0.018369473914512362, 0.006921830750395963, 0.011580755293931707, 0.9992420843237859, 0.2995349405208766, 0.1966946109420423, 0.2566015990462176, 0.03319845590773049, 0.09884653037188927, 0.11482172719966936, 0.9968394869279895, 0.1552955191410502, 0.31222143743318753, 0.03912957962609139, 0.32078103297639504, 0.03423838217282996, 0.13817632805463523, 0.44088811141286555, 0.20664418705065288, 0.10261440795323516, 0.24910532137612948, 0.006233134541355423, 0.5806962086667401, 0.20511361339576567, 0.15611827676836723, 0.051459599120492444, 0.00043486985172247136, 0.1611414669597518, 0.7814648132207432, 0.05632821190186014, 0.13370244590292277, 0.8595157236616463, 0.10954703188469925, 0.29311232855635744, 0.12138995425061269, 0.1519841703625557, 0.007895281577275622, 0.04243713847785647, 0.27238721441600894, 0.105963205164531, 0.11646211313282467, 0.38781017783913646, 0.20196868318387626, 0.04600036996417332, 0.013529520577698033, 0.1039067180367209, 0.00010823616462158427, 0.024244900875234877, 0.36112254369921043, 0.38926196268875934, 0.08598155802362153, 0.16336496024488092, 0.15097160463203307, 0.29911249167721554, 0.31326607961146863, 0.006605007702651447, 0.00849215276055186, 0.0047178626447510336, 0.21607810912959732, 0.26688715210541414, 0.19974573019210243, 0.5337743042108283, 0.27844676000449414, 0.1463630405151828, 0.1749216825669258, 0.03212847230821086, 0.36769251641619094, 0.6764470821891728, 0.03619514708503303, 0.23406195114988027, 0.01608673203779246, 0.03699948368692265, 0.9885549207759692, 0.08371450741273535, 0.5810119454870639, 0.1280665643201448, 0.01607762062893593, 0.0759528974539387, 0.026611234144445675, 0.08814971310347629, 0.9964988705469365, 0.39771066870851685, 0.2090057226507635, 0.1305709039959516, 0.11811360926842264, 0.09504454495818385, 0.049367797623911025, 0.999807194992198, 0.9451168270308862, 0.05335336926787261, 0.21356761590634177, 0.10633324336265118, 0.6794514025037203, 0.03226082548232835, 0.5095214911229591, 0.3448915054141701, 0.03192823965261363, 0.024278765569174944, 0.05720476271093274, 0.9903801171750625, 0.32980336844775837, 0.5652352911047425, 0.10033174763019155, 0.003973534559611546, 0.9937107218730418, 0.9934958563926607, 0.9034622127399494, 0.09611300135531377, 0.9934012854217112, 0.9893344697054297, 0.09086576067076609, 0.7197866327419971, 0.023365481315339852, 0.15382275199265402, 0.012331781805318255, 0.9955030394107457, 0.9926358378325519, 0.9943944174693888, 0.002109767254385655, 0.9578343334910874, 0.040085577833327446, 0.19502119392133754, 0.6172176137367062, 0.09401559348537598, 0.056269555952213876, 0.00279600278023423, 0.026562026412225184, 0.007689007645644132, 0.993559109249535, 0.9903631183254883, 0.993162200657945, 0.7852846607020891, 0.12719399433907078, 0.08479599622604718, 0.5440618778530849, 0.454718383205642, 0.232906015340766, 0.10881674487232511, 0.07922622652985073, 0.1870884385524186, 0.39040393555071023, 0.9911679361764896, 0.2560418438824542, 0.7405517946138676, 0.026612421596729424, 0.31502454065128455, 0.5339117082843841, 0.0006653105399182356, 0.10478641003712211, 0.018628695117710595, 0.9456587810979264, 0.05266380621126467, 0.9917912194765933, 0.9934131541646402, 0.9997980614414953, 0.9967087029399895, 0.993691608886599, 0.9965402237266969, 0.001206405443699335, 0.09530603005224747, 0.644220506935445, 0.25485314998148456, 0.004222419052947673, 0.9946063053939354, 0.9986955620988981, 0.13844461559505095, 0.8575874799360101, 0.24134550166459942, 0.5829627255677506, 0.03040153280636943, 0.004266881797385183, 0.14080709931371105, 0.9887536909740751, 0.3394927774961477, 0.14604491558147437, 0.09480589266639798, 0.19043380174319827, 0.1693353805428727, 0.060007197959367514, 0.5097564980853513, 0.37251436398544896, 0.11763611494277336, 0.9978987991723698, 0.9651484412081117, 0.03335766501871354, 0.7825781571483132, 0.06230717811690392, 0.10550682161129064, 0.04929190091026177, 0.9892772622720356, 0.9969113560275129, 0.9990440269348178, 0.9880685446081406, 0.770540122399478, 0.22949213552578882, 0.7678688568380235, 0.2315524712416213, 0.9965737988746074, 0.9913372779319584, 0.9911377268356655, 0.9953776248135517, 0.9952360788500502, 0.14007397813286782, 0.8593910735688026, 0.12253656979913014, 0.3337166156231629, 0.2221301222741678, 0.16737974002349265, 0.003910741589333941, 0.1501724770304233, 0.9916620957935797, 0.752220530432101, 0.24726972453650378, 0.17299692181139376, 0.6880107465142786, 0.06959646279768715, 0.012925057376713327, 0.05567717023814971, 0.9937196218175962, 0.854464015781845, 0.14545688682204314, 0.339977125819425, 0.09349370960034188, 0.36547541025588187, 0.1997365614189122, 0.07851744285865661, 0.3067846478704212, 0.13598897319849806, 0.1392268058937004, 0.14894030397930738, 0.18941321266933658, 0.027312999975296084, 0.12166699988995529, 0.8491859992319328, 0.991420868234105, 0.994227994412385, 0.709141935272468, 0.049189035972656746, 0.241846093532229, 0.9920830344241277, 0.9954821822683447, 0.9904577358182198, 0.9915848564316867, 0.9909955504596394, 0.9950716068476363, 0.19704318774607515, 0.3688244283452176, 0.2737476454467618, 0.15983922922059243, 0.9991981306795561, 0.8577945993965516, 0.1399368308337595, 0.9965250553530678, 0.9937437136124282, 0.34769763661467745, 0.22822806953143518, 0.2727201841693323, 0.007827316464074491, 0.14377544452431568, 0.9929161248241887, 0.08178131821104345, 0.1693094317558359, 0.26833113596812636, 0.04066962851576215, 0.14366988334372496, 0.006188856513268153, 0.2899921337645649, 0.9915932135777165, 0.9910711250617718, 0.9967825261555668, 0.9912960706468154, 0.9963403975579029, 0.9867872255153557, 0.2010656866054342, 0.5294729747276434, 0.19687681813448765, 0.045798295282348904, 0.003351094776757237, 0.021502858150858936, 0.0016755473883786184, 0.0005585157961262061, 0.804921083237878, 0.19458302462657412, 0.9910333906798242, 0.23448479906127584, 0.26224014262363093, 0.5024674265598769, 0.17040822014620965, 0.689182611857139, 0.14020929505700794, 0.9466291465687381, 0.05098541184391767, 0.6909130123409385, 0.3090054599558394, 0.9947887395217374, 0.987502097028435, 0.98117845571207, 0.5440672197555823, 0.026539864378321083, 0.16198468948147696, 0.05491006423100914, 0.21231891502656866, 0.5905672106846669, 0.12860283541673403, 0.2176908331355889, 0.06250528872209979, 0.9911949705266361, 0.15251427555285998, 0.3593411888026018, 0.06363905023068978, 0.036757037633243235, 0.3209383136633924, 0.00109722500397741, 0.0652848877366559, 0.9894782448235391, 0.996305265523631, 0.9931376896656667, 0.9979907341625935, 0.992045668534265, 0.8478616350561484, 0.1518449714882048, 0.22293997202540974, 0.11870511161748991, 0.007357754852323754, 0.059352555808744954, 0.3995260884811799, 0.004169394416316794, 0.16980063142529375, 0.01806737580403944, 0.9945727268473229, 0.3576085883407649, 0.6408472490177425, 0.9962755414897616, 0.9944676223191533, 0.9973197291946306, 0.998252702842907, 0.9955002687498128, 0.9888243521944536, 0.20600119404283956, 0.791306173942336, 0.9926053979396119, 0.9905474078654193, 0.996604585284578, 0.9966684350510975, 0.829705865081526, 0.16673514992068944, 0.9886480951771314, 0.3213577195093271, 0.6515601468950578, 0.026534123629210496, 0.9983778314715387, 0.9942293441627337, 0.9941500188178978, 0.24867547830318348, 0.6252412025908614, 0.12433773915159174, 0.2954901572213956, 0.1022058005451968, 0.39068991498728456, 0.1941085970031762, 0.017309046866525266, 0.9171362974709854, 0.08133095468138926, 0.11398562883782606, 0.24585135631687974, 0.3175749338208951, 0.016457818067493604, 0.012394159285396417, 0.08452410266762146, 0.020318293910485927, 0.18896013336751913, 0.9955789401355126, 0.38310768100501735, 0.12712602507389967, 0.3424619450970358, 0.14701649158206084, 0.3254874474000545, 0.451761989318563, 0.0702031749294235, 0.05424790790000907, 0.07293836356303741, 0.02142564429664224, 0.0036469181781518707, 0.9990188164250459, 0.9962704342650479, 0.9970336440893525, 0.26673661982026214, 0.7319749102044403, 0.9945398430124639, 0.4803703129548531, 0.06619944242134018, 0.0011316144003647895, 0.05262006961696271, 0.279508756890103, 0.11995112643866768, 0.11580063942389095, 0.3884924677446664, 0.4594670531980189, 0.035113742276921774, 0.9967863107457622, 0.9940877573787494, 0.9932238285275814, 0.9950980558828101, 0.9948661951044087, 0.9929393978652322, 0.9890597147867549, 0.997324360735605, 0.2394674856436984, 0.2386619727174582, 0.2120800461515311, 0.01726099127657605, 0.2913655327486038, 0.0011507327517717367, 0.9972153765078324, 0.821920928484734, 0.1777002230858056, 0.98752384696951, 0.9978551422916182, 0.9982371377000375, 0.9908228501468973, 0.1159488719423456, 0.882631208867243, 0.6830105789315344, 0.2817822172364399, 0.034588651870266766, 0.9954448035206904, 0.9902770134729556, 0.9839923797317186, 0.992150869176124, 0.2934778879667427, 0.5965192101645808, 0.10041605942650259, 0.008965719591652016, 0.7290615416890956, 0.22703232219265698, 0.04316811760001224, 0.2818584752801289, 0.23334185248600833, 0.4828559125700569, 0.9877646728695093, 0.9870520956888776, 0.0032526942195501536, 0.07481196704965354, 0.9205124641326935, 0.9407848185487702, 0.057515229081584206, 0.8564067820786245, 0.04728626404115105, 0.0945725280823021, 0.8725564890323264, 0.12713463165228167, 0.4058421954238101, 0.3849599348091622, 0.20927656833375444, 0.9997315521449482, 0.9966227067853798, 0.9991741942049981, 0.5094597208744168, 0.15289907589268212, 0.0006115963035707284, 0.07644953794634106, 0.2599284290175596, 0.998681890018644, 0.37102523191654585, 0.6252462241556606, 0.24903751595502377, 0.7500772801978692, 0.996079474582388, 0.10488596544187996, 0.07942232065252182, 0.4644083787773413, 0.2546364478935814, 0.06608422100095326, 0.030313862844473977, 0.9783889569623244, 0.882157457401366, 0.11575821839203446, 0.9987175640896329, 0.9992326296705544, 0.999813455330286, 0.14854549654159627, 0.029026131508128005, 0.11610452603251202, 0.621500698174035, 0.046100326512909184, 0.03585580951004048, 0.9950509634152828, 0.981173394841145, 0.32058468191869455, 0.6785101932654188, 0.924798001290711, 0.04611853549743703, 0.026700204761674073, 0.7612356330693836, 0.2373082742766904, 0.9958193578915586, 0.2626419367652124, 0.606909338338626, 0.056177525779762066, 0.02064644109854503, 0.0028808987579365163, 0.049455428677910196, 0.0014404493789682581, 0.27974834811973137, 0.11536014355452841, 0.25272978818196024, 0.01654507322032052, 0.1404054378788668, 0.10928855705165849, 0.08591294901560931, 0.00601328765610354, 0.1216020392678716, 0.2538943677021495, 0.05478773197783226, 0.14832776218388732, 0.26658908608725695, 0.01737171989541023, 0.1309560422884771, 0.9946011903951137, 0.9997508592232333, 0.9965204882426191, 0.9959045288886513, 0.997950427257679, 0.9948349988909297, 0.9965635725925638, 0.03877795163698902, 0.5930189189363931, 0.1333583214833037, 0.23550512091732356, 0.19050010370191583, 0.1782474170932168, 0.3669971369938899, 0.11465013898139803, 0.10910725694412943, 0.0011669225341618121, 0.01721210737888673, 0.0058346126708090605, 0.016045184844724916, 0.7537131756815059, 0.062242120314343716, 0.08947304795186908, 0.09433571360142719, 0.9926959695809439, 0.5040656368595441, 0.10287053813460083, 0.39219392663816566, 0.997212818977645, 0.9944355612905291, 0.9898184433886638, 0.2169566978398169, 0.7822957854801089, 0.09647631930189311, 0.30665687206673164, 0.18185020503333027, 0.13361204538238372, 0.19869527665747033, 0.08192830289922669, 0.14823570008140802, 0.4710601135920299, 0.015647101675259737, 0.17376518176209496, 0.19105934677159256, 0.9907680705321866, 0.1710431083142914, 0.08402117601403787, 0.7441875589814783, 0.4203768618250227, 0.4528139234469979, 0.03952101760838351, 0.042130896129691855, 0.004660497359479187, 0.011744453345887553, 0.009880254402095877, 0.01864198943791675, 0.9924861914775921, 0.9994338714841088, 0.9990894368263273, 0.015160373376003554, 0.9847351615595036, 0.9881484103058062, 0.14417730179479896, 0.1247688188608837, 0.729204430231387, 0.726977220020448, 0.27244000672610963], \"Term\": [\"ab\", \"ack\", \"adju\", \"adly\", \"adore\", \"ae\", \"ag\", \"airy\", \"al\", \"ale\", \"ale\", \"ale\", \"ale\", \"andal\", \"ankle\", \"ankle\", \"antly\", \"anywhere\", \"appear\", \"appoint\", \"appointed\", \"arm\", \"arm\", \"armpit\", \"art\", \"ary\", \"atile\", \"attention\", \"attractive\", \"available\", \"aw\", \"aw\", \"aw\", \"awe\", \"awkward\", \"aying\", \"back\", \"back\", \"back\", \"back\", \"back\", \"back\", \"back\", \"back\", \"bag\", \"band\", \"band\", \"beading\", \"beautiful\", \"beautiful\", \"beautiful\", \"beautiful\", \"beautiful\", \"beautiful\", \"beautiful\", \"beautiful\", \"become\", \"beige\", \"bell\", \"better\", \"better\", \"big\", \"big\", \"big\", \"bit\", \"bit\", \"bit\", \"bit\", \"bit\", \"bit\", \"black\", \"black\", \"black\", \"black\", \"black\", \"black\", \"blazer\", \"blou\", \"blue\", \"blue\", \"body\", \"body\", \"body\", \"body\", \"body\", \"boot\", \"boot\", \"boot\", \"both\", \"bought\", \"bought\", \"bought\", \"bought\", \"bought\", \"bought\", \"boyfriend\", \"bra\", \"brighter\", \"bring\", \"broad\", \"build\", \"bulky\", \"bulky\", \"bum\", \"burgundy\", \"butt\", \"button\", \"button\", \"button\", \"button\", \"button\", \"button\", \"button\", \"button\", \"c\", \"c\", \"c\", \"ca\", \"ca\", \"ca\", \"ca\", \"call\", \"cami\", \"can\", \"can\", \"can\", \"can\", \"can\", \"can\", \"cannot\", \"capri\", \"cardigan\", \"chance\", \"che\", \"che\", \"che\", \"cheap\", \"cla\", \"cla\", \"clean\", \"cling\", \"clingy\", \"clothing\", \"clothing\", \"coat\", \"coat\", \"cold\", \"color\", \"color\", \"color\", \"color\", \"color\", \"combo\", \"comfort\", \"comfortable\", \"comfortable\", \"comfortable\", \"comfortable\", \"comfortable\", \"comfortable\", \"compliment\", \"con\", \"con\", \"con\", \"con\", \"con\", \"con\", \"cooler\", \"count\", \"cour\", \"cover\", \"cover\", \"cover\", \"covered\", \"cream\", \"cream\", \"cription\", \"crop\", \"crotch\", \"cular\", \"currently\", \"cut\", \"cut\", \"cut\", \"cut\", \"cute\", \"cute\", \"cute\", \"cute\", \"cute\", \"cute\", \"cuter\", \"date\", \"daughter\", \"day\", \"day\", \"day\", \"de\", \"deal\", \"decided\", \"decided\", \"denim\", \"denim\", \"detail\", \"detail\", \"detail\", \"detail\", \"di\", \"did\", \"do\", \"doe\", \"dot\", \"double\", \"down\", \"down\", \"down\", \"down\", \"down\", \"draw\", \"dre\", \"dre\", \"dre\", \"dre\", \"dream\", \"dry\", \"e\", \"e\", \"e\", \"e\", \"e\", \"e\", \"e\", \"ea\", \"ea\", \"early\", \"ection\", \"ed\", \"ed\", \"ed\", \"ed\", \"ed\", \"ed\", \"edge\", \"ee\", \"ee\", \"ee\", \"ee\", \"ee\", \"ee\", \"ela\", \"elegant\", \"elegant\", \"elegant\", \"elegant\", \"ent\", \"eriou\", \"errand\", \"event\", \"everyday\", \"everyone\", \"excellent\", \"except\", \"exchange\", \"expecting\", \"expen\", \"ey\", \"fabric\", \"fabric\", \"fabric\", \"fabric\", \"fabric\", \"fabric\", \"fabric\", \"faded\", \"fall\", \"fall\", \"fall\", \"fall\", \"fall\", \"falling\", \"fanta\", \"favorite\", \"favorite\", \"fence\", \"figure\", \"figure\", \"fir\", \"fir\", \"fir\", \"fir\", \"fir\", \"fit\", \"fit\", \"fit\", \"fit\", \"fit\", \"fit\", \"fit\", \"fix\", \"flair\", \"flare\", \"flare\", \"flattering\", \"flattering\", \"flattering\", \"flattering\", \"flattering\", \"flattering\", \"flattering\", \"flattering\", \"flaw\", \"flim\", \"flirty\", \"friday\", \"front\", \"front\", \"front\", \"front\", \"frumpy\", \"ft\", \"full\", \"full\", \"full\", \"full\", \"funny\", \"generou\", \"get\", \"get\", \"get\", \"get\", \"get\", \"get\", \"get\", \"giving\", \"glad\", \"glad\", \"go\", \"go\", \"go\", \"go\", \"go\", \"go\", \"go\", \"got\", \"got\", \"got\", \"got\", \"got\", \"got\", \"great\", \"great\", \"great\", \"great\", \"great\", \"great\", \"green\", \"green\", \"green\", \"grey\", \"grey\", \"h\", \"h\", \"h\", \"h\", \"h\", \"hand\", \"hand\", \"hape\", \"hape\", \"hape\", \"haped\", \"hapele\", \"he\", \"heat\", \"hed\", \"heel\", \"heer\", \"hei\", \"height\", \"hem\", \"hem\", \"hem\", \"hemline\", \"high\", \"high\", \"high\", \"highly\", \"hing\", \"hip\", \"hip\", \"hirt\", \"hirt\", \"hirt\", \"hit\", \"hit\", \"hmere\", \"hole\", \"hole\", \"home\", \"hone\", \"honey\", \"hort\", \"hort\", \"hort\", \"hort\", \"hort\", \"hort\", \"hort\", \"hou\", \"houlder\", \"houlder\", \"houlder\", \"hourgla\", \"hourgla\", \"however\", \"however\", \"however\", \"however\", \"hrink\", \"hu\", \"hug\", \"i\", \"i\", \"i\", \"i\", \"i\", \"i\", \"i\", \"i\", \"i\", \"ic\", \"ic\", \"ic\", \"ide\", \"ide\", \"ide\", \"ide\", \"ide\", \"ide\", \"ider\", \"idering\", \"ign\", \"igned\", \"igner\", \"ilky\", \"ilver\", \"ily\", \"im\", \"imilar\", \"imilar\", \"impre\", \"inch\", \"inche\", \"inche\", \"initially\", \"intere\", \"ion\", \"it\", \"it\", \"it\", \"it\", \"it\", \"it\", \"it\", \"itant\", \"ite\", \"ition\", \"itive\", \"ive\", \"ize\", \"ize\", \"ize\", \"izing\", \"izing\", \"j\", \"jean\", \"jean\", \"jean\", \"jump\", \"k\", \"keeper\", \"kimono\", \"kind\", \"kind\", \"kind\", \"kind\", \"kinny\", \"kirt\", \"knee\", \"know\", \"know\", \"know\", \"know\", \"l\", \"la\", \"la\", \"la\", \"lace\", \"lace\", \"lace\", \"ladie\", \"large\", \"large\", \"late\", \"lavender\", \"lay\", \"layer\", \"layer\", \"layer\", \"lb\", \"lb\", \"leather\", \"leather\", \"leave\", \"leeve\", \"leeve\", \"leeve\", \"leeve\", \"leeve\", \"leeved\", \"leevele\", \"leg\", \"leg\", \"legging\", \"legging\", \"length\", \"length\", \"length\", \"length\", \"length\", \"length\", \"light\", \"light\", \"light\", \"light\", \"light\", \"lighter\", \"like\", \"like\", \"like\", \"like\", \"like\", \"like\", \"like\", \"like\", \"lip\", \"little\", \"little\", \"little\", \"little\", \"little\", \"little\", \"local\", \"long\", \"long\", \"long\", \"long\", \"long\", \"long\", \"loo\", \"loo\", \"loo\", \"loo\", \"look\", \"look\", \"look\", \"look\", \"look\", \"look\", \"looked\", \"looked\", \"looked\", \"loppy\", \"loppy\", \"lot\", \"lot\", \"lot\", \"lot\", \"lot\", \"lot\", \"lot\", \"love\", \"love\", \"love\", \"love\", \"love\", \"love\", \"love\", \"love\", \"love\", \"loved\", \"loved\", \"loved\", \"loved\", \"lovely\", \"lovely\", \"lovely\", \"lovely\", \"lovely\", \"lovely\", \"lovely\", \"low\", \"low\", \"low\", \"ly\", \"ly\", \"ly\", \"ly\", \"ly\", \"m\", \"m\", \"m\", \"m\", \"m\", \"machine\", \"made\", \"made\", \"made\", \"made\", \"made\", \"made\", \"made\", \"mail\", \"make\", \"make\", \"make\", \"make\", \"make\", \"make\", \"mall\", \"maller\", \"maller\", \"many\", \"many\", \"many\", \"material\", \"material\", \"material\", \"material\", \"material\", \"material\", \"matter\", \"me\", \"me\", \"me\", \"me\", \"mea\", \"meant\", \"medium\", \"medium\", \"metallic\", \"minute\", \"model\", \"model\", \"model\", \"model\", \"model\", \"money\", \"move\", \"movement\", \"mu\", \"mu\", \"mu\", \"much\", \"much\", \"much\", \"much\", \"much\", \"much\", \"much\", \"muted\", \"n\", \"natural\", \"navy\", \"navy\", \"navy\", \"neck\", \"neck\", \"need\", \"need\", \"need\", \"need\", \"need\", \"negative\", \"next\", \"next\", \"nice\", \"nice\", \"nice\", \"nice\", \"nice\", \"nice\", \"normally\", \"normally\", \"notice\", \"nude\", \"o\", \"occa\", \"ock\", \"odd\", \"oft\", \"oft\", \"oft\", \"oft\", \"oft\", \"ole\", \"olutely\", \"ome\", \"ome\", \"on\", \"on\", \"on\", \"on\", \"on\", \"onally\", \"one\", \"one\", \"one\", \"one\", \"one\", \"one\", \"online\", \"online\", \"online\", \"orange\", \"order\", \"order\", \"ordered\", \"ordered\", \"ordered\", \"ordered\", \"originally\", \"outfit\", \"pair\", \"pale\", \"pant\", \"pant\", \"part\", \"part\", \"party\", \"pay\", \"peach\", \"pear\", \"pencil\", \"per\", \"per\", \"perfect\", \"perfect\", \"perfect\", \"perfect\", \"perfect\", \"perfect\", \"perfection\", \"petite\", \"petite\", \"photo\", \"photo\", \"photo\", \"photo\", \"photo\", \"picked\", \"picture\", \"picture\", \"pictured\", \"pictured\", \"pictured\", \"pictured\", \"piece\", \"piece\", \"piece\", \"piece\", \"piece\", \"piece\", \"pink\", \"pink\", \"pink\", \"pite\", \"plaid\", \"plea\", \"plea\", \"plea\", \"pleat\", \"plenty\", \"poncho\", \"poor\", \"pop\", \"prettier\", \"pretty\", \"pretty\", \"pretty\", \"pretty\", \"price\", \"pring\", \"pring\", \"pulled\", \"pullover\", \"purcha\", \"purcha\", \"purcha\", \"purcha\", \"purcha\", \"purple\", \"quality\", \"quality\", \"quality\", \"quality\", \"quality\", \"quality\", \"quality\", \"quickly\", \"rack\", \"ran\", \"rayon\", \"reading\", \"realized\", \"really\", \"really\", \"really\", \"really\", \"really\", \"really\", \"really\", \"really\", \"received\", \"received\", \"recently\", \"recommend\", \"recommend\", \"recommend\", \"red\", \"red\", \"red\", \"reference\", \"reference\", \"regular\", \"regular\", \"relaxed\", \"remind\", \"require\", \"retailer\", \"retailer\", \"retailer\", \"retailer\", \"retailer\", \"review\", \"review\", \"review\", \"review\", \"ridiculou\", \"right\", \"right\", \"right\", \"right\", \"right\", \"right\", \"right\", \"ro\", \"rolled\", \"romantic\", \"romper\", \"round\", \"run\", \"run\", \"t\", \"t\", \"t\", \"t\", \"t\", \"t\", \"t\", \"t\", \"table\", \"tall\", \"tall\", \"taller\", \"tan\", \"tand\", \"tank\", \"tantial\", \"tantly\", \"taple\", \"taple\", \"tated\", \"tatement\", \"tband\", \"te\", \"tead\", \"tead\", \"teal\", \"ted\", \"ted\", \"ted\", \"tee\", \"ter\", \"terday\", \"texture\", \"texture\", \"texture\", \"the\", \"the\", \"the\", \"the\", \"the\", \"them\", \"them\", \"thi\", \"thi\", \"thi\", \"thi\", \"thi\", \"thi\", \"thi\", \"thi\", \"thigh\", \"thin\", \"thin\", \"thin\", \"thin\", \"think\", \"think\", \"think\", \"think\", \"think\", \"think\", \"think\", \"through\", \"throughout\", \"throw\", \"tic\", \"tic\", \"tiff\", \"tight\", \"tight\", \"tight\", \"tight\", \"tight\", \"tight\", \"time\", \"time\", \"time\", \"time\", \"ting\", \"titching\", \"tline\", \"tly\", \"tock\", \"together\", \"tomach\", \"ton\", \"top\", \"top\", \"top\", \"top\", \"top\", \"top\", \"tor\", \"tore\", \"tore\", \"toward\", \"traight\", \"tran\", \"trange\", \"trap\", \"trap\", \"tried\", \"tried\", \"tried\", \"tring\", \"trip\", \"triped\", \"trou\", \"true\", \"true\", \"true\", \"true\", \"try\", \"try\", \"try\", \"tunic\", \"tunic\", \"tunic\", \"turdy\", \"turquoi\", \"tyli\", \"tyli\", \"tyli\", \"type\", \"type\", \"typically\", \"typically\", \"typically\", \"u\", \"u\", \"ual\", \"ual\", \"ual\", \"ually\", \"ub\", \"uit\", \"ummer\", \"ummer\", \"ummer\", \"ummer\", \"ummer\", \"underneath\", \"unflattering\", \"unflattering\", \"unfortunately\", \"unfortunately\", \"unu\", \"uper\", \"uper\", \"uper\", \"uper\", \"uper\", \"uper\", \"urement\", \"v\", \"v\", \"ver\", \"wa\", \"wai\", \"wait\", \"wait\", \"wait\", \"wait\", \"wait\", \"wait\", \"walk\", \"wallowed\", \"wanted\", \"wanted\", \"wardrobe\", \"wardrobe\", \"wardrobe\", \"warm\", \"warm\", \"warmer\", \"way\", \"way\", \"way\", \"way\", \"way\", \"way\", \"way\", \"wear\", \"wear\", \"wear\", \"wear\", \"wear\", \"wear\", \"wear\", \"wearing\", \"wearing\", \"wearing\", \"wearing\", \"wearing\", \"wearing\", \"wearing\", \"wearing\", \"weat\", \"weater\", \"weather\", \"web\", \"wedding\", \"week\", \"weet\", \"weight\", \"weight\", \"weight\", \"weight\", \"well\", \"well\", \"well\", \"well\", \"well\", \"well\", \"well\", \"well\", \"well\", \"went\", \"went\", \"went\", \"went\", \"what\", \"white\", \"white\", \"white\", \"whole\", \"width\", \"wingy\", \"wore\", \"wore\", \"work\", \"work\", \"work\", \"work\", \"work\", \"work\", \"worn\", \"worn\", \"worn\", \"worn\", \"worn\", \"worry\", \"worth\", \"worth\", \"worth\", \"would\", \"would\", \"would\", \"would\", \"would\", \"would\", \"would\", \"would\", \"wri\", \"x\", \"xx\", \"y\", \"y\", \"yarn\", \"ye\", \"ye\", \"ye\", \"year\", \"year\"]}, \"R\": 30, \"lambda.step\": 0.01, \"plot.opts\": {\"xlab\": \"PC1\", \"ylab\": \"PC2\"}, \"topic.order\": [3, 7, 1, 9, 4, 2, 6, 5, 8, 10]};\n",
       "\n",
       "function LDAvis_load_lib(url, callback){\n",
       "  var s = document.createElement('script');\n",
       "  s.src = url;\n",
       "  s.async = true;\n",
       "  s.onreadystatechange = s.onload = callback;\n",
       "  s.onerror = function(){console.warn(\"failed to load library \" + url);};\n",
       "  document.getElementsByTagName(\"head\")[0].appendChild(s);\n",
       "}\n",
       "\n",
       "if(typeof(LDAvis) !== \"undefined\"){\n",
       "   // already loaded: just create the visualization\n",
       "   !function(LDAvis){\n",
       "       new LDAvis(\"#\" + \"ldavis_el194351702330401032508747\", ldavis_el194351702330401032508747_data);\n",
       "   }(LDAvis);\n",
       "}else if(typeof define === \"function\" && define.amd){\n",
       "   // require.js is available: use it to load d3/LDAvis\n",
       "   require.config({paths: {d3: \"https://d3js.org/d3.v5\"}});\n",
       "   require([\"d3\"], function(d3){\n",
       "      window.d3 = d3;\n",
       "      LDAvis_load_lib(\"https://cdn.jsdelivr.net/gh/bmabey/pyLDAvis@3.4.0/pyLDAvis/js/ldavis.v3.0.0.js\", function(){\n",
       "        new LDAvis(\"#\" + \"ldavis_el194351702330401032508747\", ldavis_el194351702330401032508747_data);\n",
       "      });\n",
       "    });\n",
       "}else{\n",
       "    // require.js not available: dynamically load d3 & LDAvis\n",
       "    LDAvis_load_lib(\"https://d3js.org/d3.v5.js\", function(){\n",
       "         LDAvis_load_lib(\"https://cdn.jsdelivr.net/gh/bmabey/pyLDAvis@3.4.0/pyLDAvis/js/ldavis.v3.0.0.js\", function(){\n",
       "                 new LDAvis(\"#\" + \"ldavis_el194351702330401032508747\", ldavis_el194351702330401032508747_data);\n",
       "            })\n",
       "         });\n",
       "}\n",
       "</script>"
      ],
      "text/plain": [
       "PreparedData(topic_coordinates=              x         y  topics  cluster       Freq\n",
       "topic                                                \n",
       "2      0.140788 -0.017264       1        1  21.276368\n",
       "6      0.144843  0.039557       2        1  18.151574\n",
       "0      0.113673  0.119427       3        1  14.076677\n",
       "8      0.117273 -0.010118       4        1  11.102919\n",
       "3      0.101725  0.069871       5        1   9.914194\n",
       "1      0.031773  0.144965       6        1   6.789180\n",
       "5     -0.021352 -0.229797       7        1   6.311548\n",
       "4     -0.077647 -0.316575       8        1   5.073284\n",
       "7     -0.104601  0.094702       9        1   4.790537\n",
       "9     -0.446475  0.105232      10        1   2.513719, topic_info=         Term          Freq         Total Category  logprob  loglift\n",
       "9         dre  13488.000000  13488.000000  Default  30.0000  30.0000\n",
       "192         o   3892.000000   3892.000000  Default  29.0000  29.0000\n",
       "171        al   2812.000000   2812.000000  Default  28.0000  28.0000\n",
       "162         t  12231.000000  12231.000000  Default  27.0000  27.0000\n",
       "50        ize   9701.000000   9701.000000  Default  26.0000  26.0000\n",
       "..        ...           ...           ...      ...      ...      ...\n",
       "466      hort    339.994845   2392.554229  Topic10  -4.0133   1.7322\n",
       "115      long    339.187190   2453.386950  Topic10  -4.0156   1.7047\n",
       "439    button    214.191689    956.228623  Topic10  -4.4753   2.1873\n",
       "52         ly    102.852941    280.125364  Topic10  -5.2089   2.6815\n",
       "437  pictured     93.682244    470.619897  Topic10  -5.3023   2.0693\n",
       "\n",
       "[635 rows x 6 columns], token_table=      Topic      Freq   Term\n",
       "term                        \n",
       "0         7  0.998834     ab\n",
       "1357      8  0.993290    ack\n",
       "87        5  0.995800   adju\n",
       "416       2  0.997248   adly\n",
       "2168      4  0.990227  adore\n",
       "...     ...       ...    ...\n",
       "1162      4  0.144177     ye\n",
       "1162      6  0.124769     ye\n",
       "1162      8  0.729204     ye\n",
       "237       4  0.726977   year\n",
       "237       9  0.272440   year\n",
       "\n",
       "[1127 rows x 3 columns], R=30, lambda_step=0.01, plot_opts={'xlab': 'PC1', 'ylab': 'PC2'}, topic_order=[3, 7, 1, 9, 4, 2, 6, 5, 8, 10])"
      ]
     },
     "execution_count": 42,
     "metadata": {},
     "output_type": "execute_result"
    }
   ],
   "source": [
    "# Visualize the topics\n",
    "pyLDAvis.enable_notebook()\n",
    "# feed the LDA model into the pyLDAvis instance\n",
    "vis = pyLDAvis.gensim_models.prepare(lda_model, doc_term_matrix, dictionary)     \n",
    "vis"
   ]
  },
  {
   "cell_type": "code",
   "execution_count": null,
   "id": "ae88c12d-790a-4473-a13e-e4d4b146a7dc",
   "metadata": {},
   "outputs": [],
   "source": []
  }
 ],
 "metadata": {
  "kernelspec": {
   "display_name": "Python 3 (ipykernel)",
   "language": "python",
   "name": "python3"
  },
  "language_info": {
   "codemirror_mode": {
    "name": "ipython",
    "version": 3
   },
   "file_extension": ".py",
   "mimetype": "text/x-python",
   "name": "python",
   "nbconvert_exporter": "python",
   "pygments_lexer": "ipython3",
   "version": "3.12.7"
  }
 },
 "nbformat": 4,
 "nbformat_minor": 5
}
